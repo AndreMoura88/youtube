{
 "cells": [
  {
   "cell_type": "markdown",
   "metadata": {},
   "source": [
    "## 1. INTRODUÇÃO"
   ]
  },
  {
   "cell_type": "markdown",
   "metadata": {},
   "source": [
    "<img src='barragem.jpg'>\n",
    "\n",
    "Barragens são barreiras artificiais utilizadas para reter o fluxo da água e então garantir o seu uso para alguma atividade qualquer. Outros usos comuns são: contenção de resíduos industriais e rejeitos de mineração, geração de hidrelétrica e até controle de enchentes. No Brasil, por exemplo, temos represas mundialmente famosas, como é o caso da Itaipu e Sobradinho.\n",
    "\n",
    "Barragens podem ser feitas de todo tipo de material, conter diferentes dimensões, além de reter diferentes minérios. Isso tudo implica diversos riscos. Um dos casos mais famosos no Brasil foi a ruptura da barragem do Córrego do Feijão, em Brumadinho, Minas Gerais. \n",
    "\n",
    "(Samarco) Barragem de rejeitos é uma estrutura construída para o depósito dos rejeitos provenientes da mineração. O rejeito é o material que sobra quando se separa o minério da rocha e é depositado em forma de polpa, ou seja, uma mistura de sólidos e água. A barragem funciona como uma barreira, onde são depositados os rejeitos. À medida que o rejeito é depositado, a parte sólida se acomoda no fundo da barragem. A água decantada na parte superior é então drenada e tratada, com parte sendo reutilizada no processo de mineração e o restante devolvido ao meio ambiente. Com o passar do tempo, a barragem vai “secando”, até que deixa de receber rejeitos.\n",
    "\n",
    "No Brasil, as barragens fazem parte do escopo de regulação da ANA - Agência Nacional de Águas e Saneamento Básico. A principal lei no que diz respeito às barragens é a lei 12.334/2010, chamada de Política Nacional de Segurança de Barragens. De acordo com o site da ANA, essa lei <i>cria regras para a acumulação de água, de resíduos industriais e a disposição final ou temporária de rejeitos. Essa política também estabelece que a Agência Nacional de Águas (ANA) é a responsável por organizar, implantar e gerir o Sistema Nacional de Informações sobre Segurança de Barragens (SNISB); promover a articulação entre os órgãos fiscalizadores de barragens; coordenar a elaboração do Relatório de Segurança de Barragens (RSB); e receber denúncias dos demais órgãos ou entidades fiscalizadores sobre qualquer não conformidade que implique em risco imediato à segurança ou qualquer acidente ocorrido nas barragens.</i>\n",
    "\n",
    "Os dados apresentados neste notebook dizem respeito às informações referentes às barragens e comunidades afetadas. A coleta foi realizada em conjunto pelas comunidades de Data Science Cappra Data e DataScience4Industry e possui informações como:\n",
    "- Localização, risco de disrupção e risco de dadnos de barragens que estão contempladas nas bases da ANM - Agência Nacional de Mineração;\n",
    "- Dados do Censo de 2017, que podem ser usados para verificar a proximidade de um domicílio e uma barragem.\n",
    "\n",
    "Fonte dos dados: https://www.kaggle.com/edumagalhaes/brazilian-dams-and-brumadinho-households\n",
    "\n",
    "Mais sobre a ANA: https://www.ana.gov.br\n",
    "\n",
    "Sobre a ANM: https://www.gov.br/anm/pt-br\n",
    "\n",
    "Mais sobre o problema das barragens:\n",
    "- https://istoe.com.br/minas-tem-42-das-45-barragens-de-mineracao-interditadas-no-pais/\n",
    "- https://agenciabrasil.ebc.com.br/geral/noticia/2019-02/sancionada-lei-que-torna-regras-para-barragens-mais-rigidas-em-mg\n",
    "- https://www.samarco.com/wp-content/uploads/2016/08/o-que-e-uma-barragem.pdf"
   ]
  },
  {
   "cell_type": "markdown",
   "metadata": {},
   "source": [
    "<b>ALERTA: </b> Caso você não me conheça, tenha em mente que eu sou um mero matemático com mestrado em economia. Meu conhecimento em barragens e qualquer tema ambiental é mínimo. Tentei aprender com as ferramentas disponíveis, mas é possível que tenha cometido erros. Se você verificar algum equívoco, por favor me avise."
   ]
  },
  {
   "cell_type": "markdown",
   "metadata": {},
   "source": [
    "## 2. CARREGANDO BIBLIOTECAS"
   ]
  },
  {
   "cell_type": "code",
   "execution_count": 1,
   "metadata": {},
   "outputs": [
    {
     "data": {
      "application/javascript": [
       "\n",
       "            setTimeout(function() {\n",
       "                var nbb_cell_id = 1;\n",
       "                var nbb_unformatted_code = \"import numpy as np\\nimport pandas as pd\\nimport os\\nimport matplotlib.pyplot as plt\\nimport seaborn as sns\\n# import folium\\n\\nfrom IPython.core.interactiveshell import InteractiveShell\\n\\nInteractiveShell.ast_node_interactivity = \\\"all\\\"\\n\\nimport sys\\nimport warnings\\n\\nwarnings.filterwarnings(\\\"ignore\\\")\\n\\npd.options.display.max_columns = 500\\npd.options.display.max_rows = 500\\n\\n#### Settings ###########\\nsns.set()\\npd.options.display.max_columns = 500\\nplt.style.use(\\\"fivethirtyeight\\\")\\nplt.rcParams[\\\"figure.figsize\\\"] = [10, 5]\\n%load_ext nb_black\";\n",
       "                var nbb_formatted_code = \"import numpy as np\\nimport pandas as pd\\nimport os\\nimport matplotlib.pyplot as plt\\nimport seaborn as sns\\n\\n# import folium\\n\\nfrom IPython.core.interactiveshell import InteractiveShell\\n\\nInteractiveShell.ast_node_interactivity = \\\"all\\\"\\n\\nimport sys\\nimport warnings\\n\\nwarnings.filterwarnings(\\\"ignore\\\")\\n\\npd.options.display.max_columns = 500\\npd.options.display.max_rows = 500\\n\\n#### Settings ###########\\nsns.set()\\npd.options.display.max_columns = 500\\nplt.style.use(\\\"fivethirtyeight\\\")\\nplt.rcParams[\\\"figure.figsize\\\"] = [10, 5]\\n%load_ext nb_black\";\n",
       "                var nbb_cells = Jupyter.notebook.get_cells();\n",
       "                for (var i = 0; i < nbb_cells.length; ++i) {\n",
       "                    if (nbb_cells[i].input_prompt_number == nbb_cell_id) {\n",
       "                        if (nbb_cells[i].get_text() == nbb_unformatted_code) {\n",
       "                             nbb_cells[i].set_text(nbb_formatted_code);\n",
       "                        }\n",
       "                        break;\n",
       "                    }\n",
       "                }\n",
       "            }, 500);\n",
       "            "
      ],
      "text/plain": [
       "<IPython.core.display.Javascript object>"
      ]
     },
     "metadata": {},
     "output_type": "display_data"
    }
   ],
   "source": [
    "import numpy as np\n",
    "import pandas as pd\n",
    "import os\n",
    "import matplotlib.pyplot as plt\n",
    "import seaborn as sns\n",
    "\n",
    "# import folium\n",
    "\n",
    "from IPython.core.interactiveshell import InteractiveShell\n",
    "\n",
    "InteractiveShell.ast_node_interactivity = \"all\"\n",
    "\n",
    "import sys\n",
    "import warnings\n",
    "\n",
    "warnings.filterwarnings(\"ignore\")\n",
    "\n",
    "pd.options.display.max_columns = 500\n",
    "pd.options.display.max_rows = 500\n",
    "\n",
    "#### Settings ###########\n",
    "sns.set()\n",
    "pd.options.display.max_columns = 500\n",
    "plt.style.use(\"fivethirtyeight\")\n",
    "plt.rcParams[\"figure.figsize\"] = [10, 5]\n",
    "%load_ext nb_black"
   ]
  },
  {
   "cell_type": "markdown",
   "metadata": {},
   "source": [
    "## 3. ANÁLISE DOS DADOS DAS BARRAGENS"
   ]
  },
  {
   "cell_type": "markdown",
   "metadata": {},
   "source": [
    "A análise dos dados teve início utilizando com base no notebook publicado no Kaggle por Igor Samiel e Filipe Theodoro. O trabalho dos dois pode ser acessado pelo seguinte link: https://www.kaggle.com/carlostomeh/panorama-geral-das-barragens-de-rejeito-no-brasil"
   ]
  },
  {
   "cell_type": "code",
   "execution_count": 3,
   "metadata": {},
   "outputs": [
    {
     "data": {
      "text/html": [
       "<div>\n",
       "<style scoped>\n",
       "    .dataframe tbody tr th:only-of-type {\n",
       "        vertical-align: middle;\n",
       "    }\n",
       "\n",
       "    .dataframe tbody tr th {\n",
       "        vertical-align: top;\n",
       "    }\n",
       "\n",
       "    .dataframe thead th {\n",
       "        text-align: right;\n",
       "    }\n",
       "</style>\n",
       "<table border=\"1\" class=\"dataframe\">\n",
       "  <thead>\n",
       "    <tr style=\"text-align: right;\">\n",
       "      <th></th>\n",
       "      <th>NOME_BARRAGEM_MINERACAO</th>\n",
       "      <th>NOME_DO_EMPREENDEDOR</th>\n",
       "      <th>CPF_CNPJ</th>\n",
       "      <th>POSICIONAMENTO</th>\n",
       "      <th>UF</th>\n",
       "      <th>MUNICIPIO</th>\n",
       "      <th>MINERIO_PRINCIPAL</th>\n",
       "      <th>ALTURA_ATUAL_metros</th>\n",
       "      <th>VOLUME_ATUAL_m3</th>\n",
       "      <th>CATEGORIA_DE_RISCO</th>\n",
       "      <th>DANO_POTENCIAL_ASSOCIADO</th>\n",
       "      <th>CLASSE</th>\n",
       "      <th>INSERIDA_NA_PNSB</th>\n",
       "      <th>LATITUDE</th>\n",
       "      <th>LONGITUDE</th>\n",
       "    </tr>\n",
       "  </thead>\n",
       "  <tbody>\n",
       "    <tr>\n",
       "      <th>0</th>\n",
       "      <td>0-1</td>\n",
       "      <td>Mineração Taboca S.a.</td>\n",
       "      <td>34.019.992/0001-10</td>\n",
       "      <td>Sul do Equador</td>\n",
       "      <td>AM</td>\n",
       "      <td>PRESIDENTE FIGUEIREDO</td>\n",
       "      <td>Minério de Estanho Primário</td>\n",
       "      <td>22.00</td>\n",
       "      <td>27,700,000.00</td>\n",
       "      <td>Baixa</td>\n",
       "      <td>Média</td>\n",
       "      <td>C</td>\n",
       "      <td>Sim</td>\n",
       "      <td>0.733361111111111</td>\n",
       "      <td>-60.1383888888889</td>\n",
       "    </tr>\n",
       "    <tr>\n",
       "      <th>1</th>\n",
       "      <td>103 (Cruz)</td>\n",
       "      <td>Mineração Taboca S.a.</td>\n",
       "      <td>34.019.992/0001-10</td>\n",
       "      <td>Sul do Equador</td>\n",
       "      <td>AM</td>\n",
       "      <td>PRESIDENTE FIGUEIREDO</td>\n",
       "      <td>Minério de Estanho Primário</td>\n",
       "      <td>10.30</td>\n",
       "      <td>924,000.00</td>\n",
       "      <td>Baixa</td>\n",
       "      <td>Média</td>\n",
       "      <td>C</td>\n",
       "      <td>Sim</td>\n",
       "      <td>0.785722222222222</td>\n",
       "      <td>-60.1419166666667</td>\n",
       "    </tr>\n",
       "    <tr>\n",
       "      <th>2</th>\n",
       "      <td>111 (Índio)</td>\n",
       "      <td>Mineração Taboca S.a.</td>\n",
       "      <td>34.019.992/0001-10</td>\n",
       "      <td>Sul do Equador</td>\n",
       "      <td>AM</td>\n",
       "      <td>PRESIDENTE FIGUEIREDO</td>\n",
       "      <td>Minério de Estanho Primário</td>\n",
       "      <td>5.00</td>\n",
       "      <td>48,873.00</td>\n",
       "      <td>Baixa</td>\n",
       "      <td>Média</td>\n",
       "      <td>C</td>\n",
       "      <td>Sim</td>\n",
       "      <td>0.789666666666667</td>\n",
       "      <td>-60.1442777777778</td>\n",
       "    </tr>\n",
       "  </tbody>\n",
       "</table>\n",
       "</div>"
      ],
      "text/plain": [
       "  NOME_BARRAGEM_MINERACAO   NOME_DO_EMPREENDEDOR            CPF_CNPJ  \\\n",
       "0                     0-1  Mineração Taboca S.a.  34.019.992/0001-10   \n",
       "1              103 (Cruz)  Mineração Taboca S.a.  34.019.992/0001-10   \n",
       "2             111 (Índio)  Mineração Taboca S.a.  34.019.992/0001-10   \n",
       "\n",
       "   POSICIONAMENTO  UF              MUNICIPIO            MINERIO_PRINCIPAL  \\\n",
       "0  Sul do Equador  AM  PRESIDENTE FIGUEIREDO  Minério de Estanho Primário   \n",
       "1  Sul do Equador  AM  PRESIDENTE FIGUEIREDO  Minério de Estanho Primário   \n",
       "2  Sul do Equador  AM  PRESIDENTE FIGUEIREDO  Minério de Estanho Primário   \n",
       "\n",
       "  ALTURA_ATUAL_metros VOLUME_ATUAL_m3 CATEGORIA_DE_RISCO  \\\n",
       "0               22.00   27,700,000.00              Baixa   \n",
       "1               10.30      924,000.00              Baixa   \n",
       "2                5.00       48,873.00              Baixa   \n",
       "\n",
       "  DANO_POTENCIAL_ASSOCIADO CLASSE INSERIDA_NA_PNSB           LATITUDE  \\\n",
       "0                    Média      C              Sim  0.733361111111111   \n",
       "1                    Média      C              Sim  0.785722222222222   \n",
       "2                    Média      C              Sim  0.789666666666667   \n",
       "\n",
       "           LONGITUDE  \n",
       "0  -60.1383888888889  \n",
       "1  -60.1419166666667  \n",
       "2  -60.1442777777778  "
      ]
     },
     "execution_count": 3,
     "metadata": {},
     "output_type": "execute_result"
    },
    {
     "data": {
      "application/javascript": [
       "\n",
       "            setTimeout(function() {\n",
       "                var nbb_cell_id = 3;\n",
       "                var nbb_unformatted_code = \"# barragens -> Dados sobre Barragens brasileiras\\nbarragens = pd.read_csv(\\n    \\\"database_versao_LatLongDecimal_fonteANM_23_01_2019.csv\\\",\\n    sep=\\\",\\\",\\n    decimal=\\\",\\\",\\n    dtype={\\n        \\\"LATITUDE\\\": \\\"string\\\",\\n        \\\"LONGITUDE\\\": \\\"string\\\",\\n        \\\"NOME_BARRAGEM_MINERACAO\\\": \\\"string\\\",\\n        \\\"CPF_CNPJ\\\": \\\"string\\\",\\n    },\\n)\\n\\n# Primeiras linhas do dataset\\nbarragens.head(3)\";\n",
       "                var nbb_formatted_code = \"# barragens -> Dados sobre Barragens brasileiras\\nbarragens = pd.read_csv(\\n    \\\"database_versao_LatLongDecimal_fonteANM_23_01_2019.csv\\\",\\n    sep=\\\",\\\",\\n    decimal=\\\",\\\",\\n    dtype={\\n        \\\"LATITUDE\\\": \\\"string\\\",\\n        \\\"LONGITUDE\\\": \\\"string\\\",\\n        \\\"NOME_BARRAGEM_MINERACAO\\\": \\\"string\\\",\\n        \\\"CPF_CNPJ\\\": \\\"string\\\",\\n    },\\n)\\n\\n# Primeiras linhas do dataset\\nbarragens.head(3)\";\n",
       "                var nbb_cells = Jupyter.notebook.get_cells();\n",
       "                for (var i = 0; i < nbb_cells.length; ++i) {\n",
       "                    if (nbb_cells[i].input_prompt_number == nbb_cell_id) {\n",
       "                        if (nbb_cells[i].get_text() == nbb_unformatted_code) {\n",
       "                             nbb_cells[i].set_text(nbb_formatted_code);\n",
       "                        }\n",
       "                        break;\n",
       "                    }\n",
       "                }\n",
       "            }, 500);\n",
       "            "
      ],
      "text/plain": [
       "<IPython.core.display.Javascript object>"
      ]
     },
     "metadata": {},
     "output_type": "display_data"
    }
   ],
   "source": [
    "# barragens -> Dados sobre Barragens brasileiras\n",
    "barragens = pd.read_csv(\n",
    "    \"database_versao_LatLongDecimal_fonteANM_23_01_2019.csv\",\n",
    "    sep=\",\",\n",
    "    decimal=\",\",\n",
    "    dtype={\n",
    "        \"LATITUDE\": \"string\",\n",
    "        \"LONGITUDE\": \"string\",\n",
    "        \"NOME_BARRAGEM_MINERACAO\": \"string\",\n",
    "        \"CPF_CNPJ\": \"string\",\n",
    "    },\n",
    ")\n",
    "\n",
    "# Primeiras linhas do dataset\n",
    "barragens.head(3)"
   ]
  },
  {
   "cell_type": "code",
   "execution_count": 4,
   "metadata": {},
   "outputs": [
    {
     "data": {
      "text/plain": [
       "(714, 15)"
      ]
     },
     "execution_count": 4,
     "metadata": {},
     "output_type": "execute_result"
    },
    {
     "data": {
      "application/javascript": [
       "\n",
       "            setTimeout(function() {\n",
       "                var nbb_cell_id = 4;\n",
       "                var nbb_unformatted_code = \"barragens.shape\";\n",
       "                var nbb_formatted_code = \"barragens.shape\";\n",
       "                var nbb_cells = Jupyter.notebook.get_cells();\n",
       "                for (var i = 0; i < nbb_cells.length; ++i) {\n",
       "                    if (nbb_cells[i].input_prompt_number == nbb_cell_id) {\n",
       "                        if (nbb_cells[i].get_text() == nbb_unformatted_code) {\n",
       "                             nbb_cells[i].set_text(nbb_formatted_code);\n",
       "                        }\n",
       "                        break;\n",
       "                    }\n",
       "                }\n",
       "            }, 500);\n",
       "            "
      ],
      "text/plain": [
       "<IPython.core.display.Javascript object>"
      ]
     },
     "metadata": {},
     "output_type": "display_data"
    }
   ],
   "source": [
    "barragens.shape"
   ]
  },
  {
   "cell_type": "code",
   "execution_count": 5,
   "metadata": {},
   "outputs": [
    {
     "name": "stdout",
     "output_type": "stream",
     "text": [
      "<class 'pandas.core.frame.DataFrame'>\n",
      "RangeIndex: 714 entries, 0 to 713\n",
      "Data columns (total 15 columns):\n",
      " #   Column                    Non-Null Count  Dtype \n",
      "---  ------                    --------------  ----- \n",
      " 0   NOME_BARRAGEM_MINERACAO   714 non-null    string\n",
      " 1   NOME_DO_EMPREENDEDOR      714 non-null    object\n",
      " 2   CPF_CNPJ                  714 non-null    string\n",
      " 3   POSICIONAMENTO            714 non-null    object\n",
      " 4   UF                        714 non-null    object\n",
      " 5   MUNICIPIO                 714 non-null    object\n",
      " 6   MINERIO_PRINCIPAL         714 non-null    object\n",
      " 7   ALTURA_ATUAL_metros       714 non-null    object\n",
      " 8   VOLUME_ATUAL_m3           714 non-null    object\n",
      " 9   CATEGORIA_DE_RISCO        390 non-null    object\n",
      " 10  DANO_POTENCIAL_ASSOCIADO  390 non-null    object\n",
      " 11  CLASSE                    390 non-null    object\n",
      " 12  INSERIDA_NA_PNSB          714 non-null    object\n",
      " 13  LATITUDE                  714 non-null    string\n",
      " 14  LONGITUDE                 714 non-null    string\n",
      "dtypes: object(11), string(4)\n",
      "memory usage: 83.8+ KB\n"
     ]
    },
    {
     "data": {
      "application/javascript": [
       "\n",
       "            setTimeout(function() {\n",
       "                var nbb_cell_id = 5;\n",
       "                var nbb_unformatted_code = \"barragens.info()\";\n",
       "                var nbb_formatted_code = \"barragens.info()\";\n",
       "                var nbb_cells = Jupyter.notebook.get_cells();\n",
       "                for (var i = 0; i < nbb_cells.length; ++i) {\n",
       "                    if (nbb_cells[i].input_prompt_number == nbb_cell_id) {\n",
       "                        if (nbb_cells[i].get_text() == nbb_unformatted_code) {\n",
       "                             nbb_cells[i].set_text(nbb_formatted_code);\n",
       "                        }\n",
       "                        break;\n",
       "                    }\n",
       "                }\n",
       "            }, 500);\n",
       "            "
      ],
      "text/plain": [
       "<IPython.core.display.Javascript object>"
      ]
     },
     "metadata": {},
     "output_type": "display_data"
    }
   ],
   "source": [
    "barragens.info()"
   ]
  },
  {
   "cell_type": "code",
   "execution_count": 6,
   "metadata": {},
   "outputs": [
    {
     "name": "stdout",
     "output_type": "stream",
     "text": [
      "<class 'pandas.core.frame.DataFrame'>\n",
      "RangeIndex: 714 entries, 0 to 713\n",
      "Data columns (total 15 columns):\n",
      " #   Column                    Non-Null Count  Dtype  \n",
      "---  ------                    --------------  -----  \n",
      " 0   NOME_BARRAGEM_MINERACAO   714 non-null    string \n",
      " 1   NOME_DO_EMPREENDEDOR      714 non-null    object \n",
      " 2   CPF_CNPJ                  714 non-null    string \n",
      " 3   POSICIONAMENTO            714 non-null    object \n",
      " 4   UF                        714 non-null    object \n",
      " 5   MUNICIPIO                 714 non-null    object \n",
      " 6   MINERIO_PRINCIPAL         714 non-null    object \n",
      " 7   ALTURA_ATUAL_metros       697 non-null    float64\n",
      " 8   VOLUME_ATUAL_m3           707 non-null    float64\n",
      " 9   CATEGORIA_DE_RISCO        390 non-null    object \n",
      " 10  DANO_POTENCIAL_ASSOCIADO  390 non-null    object \n",
      " 11  CLASSE                    390 non-null    object \n",
      " 12  INSERIDA_NA_PNSB          714 non-null    object \n",
      " 13  LATITUDE                  714 non-null    string \n",
      " 14  LONGITUDE                 714 non-null    string \n",
      "dtypes: float64(2), object(9), string(4)\n",
      "memory usage: 83.8+ KB\n"
     ]
    },
    {
     "data": {
      "application/javascript": [
       "\n",
       "            setTimeout(function() {\n",
       "                var nbb_cell_id = 6;\n",
       "                var nbb_unformatted_code = \"# Precisamos converter os campos de altura e volume de texto para o formato num\\u00e9rico\\n# Primeiro: troca virgula por espa\\u00e7o vazio. 27,700,700.00 em 27700700.00\\nbarragens[\\\"ALTURA_ATUAL_metros\\\"] = barragens[\\\"ALTURA_ATUAL_metros\\\"].str.replace(\\\",\\\", \\\"\\\")\\n# Segundo: vieram hifens representando nulos. Trocar hifen por nulo\\nbarragens[\\\"ALTURA_ATUAL_metros\\\"] = barragens[\\\"ALTURA_ATUAL_metros\\\"].replace(\\\"-\\\", np.nan)\\n# Terceiro: converte para numerico\\nbarragens[\\\"ALTURA_ATUAL_metros\\\"] = pd.to_numeric(barragens[\\\"ALTURA_ATUAL_metros\\\"])\\n\\nbarragens[\\\"VOLUME_ATUAL_m3\\\"] = barragens[\\\"VOLUME_ATUAL_m3\\\"].str.replace(\\\",\\\", \\\"\\\")\\nbarragens[\\\"VOLUME_ATUAL_m3\\\"] = barragens[\\\"VOLUME_ATUAL_m3\\\"].replace(\\\"-\\\", np.nan)\\nbarragens[\\\"VOLUME_ATUAL_m3\\\"] = pd.to_numeric(barragens[\\\"VOLUME_ATUAL_m3\\\"])\\n\\n# verifica resultado das altera\\u00e7\\u00f5es\\nbarragens.info()\";\n",
       "                var nbb_formatted_code = \"# Precisamos converter os campos de altura e volume de texto para o formato num\\u00e9rico\\n# Primeiro: troca virgula por espa\\u00e7o vazio. 27,700,700.00 em 27700700.00\\nbarragens[\\\"ALTURA_ATUAL_metros\\\"] = barragens[\\\"ALTURA_ATUAL_metros\\\"].str.replace(\\\",\\\", \\\"\\\")\\n# Segundo: vieram hifens representando nulos. Trocar hifen por nulo\\nbarragens[\\\"ALTURA_ATUAL_metros\\\"] = barragens[\\\"ALTURA_ATUAL_metros\\\"].replace(\\\"-\\\", np.nan)\\n# Terceiro: converte para numerico\\nbarragens[\\\"ALTURA_ATUAL_metros\\\"] = pd.to_numeric(barragens[\\\"ALTURA_ATUAL_metros\\\"])\\n\\nbarragens[\\\"VOLUME_ATUAL_m3\\\"] = barragens[\\\"VOLUME_ATUAL_m3\\\"].str.replace(\\\",\\\", \\\"\\\")\\nbarragens[\\\"VOLUME_ATUAL_m3\\\"] = barragens[\\\"VOLUME_ATUAL_m3\\\"].replace(\\\"-\\\", np.nan)\\nbarragens[\\\"VOLUME_ATUAL_m3\\\"] = pd.to_numeric(barragens[\\\"VOLUME_ATUAL_m3\\\"])\\n\\n# verifica resultado das altera\\u00e7\\u00f5es\\nbarragens.info()\";\n",
       "                var nbb_cells = Jupyter.notebook.get_cells();\n",
       "                for (var i = 0; i < nbb_cells.length; ++i) {\n",
       "                    if (nbb_cells[i].input_prompt_number == nbb_cell_id) {\n",
       "                        if (nbb_cells[i].get_text() == nbb_unformatted_code) {\n",
       "                             nbb_cells[i].set_text(nbb_formatted_code);\n",
       "                        }\n",
       "                        break;\n",
       "                    }\n",
       "                }\n",
       "            }, 500);\n",
       "            "
      ],
      "text/plain": [
       "<IPython.core.display.Javascript object>"
      ]
     },
     "metadata": {},
     "output_type": "display_data"
    }
   ],
   "source": [
    "# Precisamos converter os campos de altura e volume de texto para o formato numérico\n",
    "# Primeiro: troca virgula por espaço vazio. 27,700,700.00 em 27700700.00\n",
    "barragens[\"ALTURA_ATUAL_metros\"] = barragens[\"ALTURA_ATUAL_metros\"].str.replace(\",\", \"\")\n",
    "# Segundo: vieram hifens representando nulos. Trocar hifen por nulo\n",
    "barragens[\"ALTURA_ATUAL_metros\"] = barragens[\"ALTURA_ATUAL_metros\"].replace(\"-\", np.nan)\n",
    "# Terceiro: converte para numerico\n",
    "barragens[\"ALTURA_ATUAL_metros\"] = pd.to_numeric(barragens[\"ALTURA_ATUAL_metros\"])\n",
    "\n",
    "barragens[\"VOLUME_ATUAL_m3\"] = barragens[\"VOLUME_ATUAL_m3\"].str.replace(\",\", \"\")\n",
    "barragens[\"VOLUME_ATUAL_m3\"] = barragens[\"VOLUME_ATUAL_m3\"].replace(\"-\", np.nan)\n",
    "barragens[\"VOLUME_ATUAL_m3\"] = pd.to_numeric(barragens[\"VOLUME_ATUAL_m3\"])\n",
    "\n",
    "# verifica resultado das alterações\n",
    "barragens.info()"
   ]
  },
  {
   "cell_type": "code",
   "execution_count": 7,
   "metadata": {
    "scrolled": true
   },
   "outputs": [
    {
     "data": {
      "text/html": [
       "<div>\n",
       "<style scoped>\n",
       "    .dataframe tbody tr th:only-of-type {\n",
       "        vertical-align: middle;\n",
       "    }\n",
       "\n",
       "    .dataframe tbody tr th {\n",
       "        vertical-align: top;\n",
       "    }\n",
       "\n",
       "    .dataframe thead th {\n",
       "        text-align: right;\n",
       "    }\n",
       "</style>\n",
       "<table border=\"1\" class=\"dataframe\">\n",
       "  <thead>\n",
       "    <tr style=\"text-align: right;\">\n",
       "      <th></th>\n",
       "      <th>NOME_BARRAGEM_MINERACAO</th>\n",
       "      <th>NOME_DO_EMPREENDEDOR</th>\n",
       "      <th>CPF_CNPJ</th>\n",
       "      <th>POSICIONAMENTO</th>\n",
       "      <th>UF</th>\n",
       "      <th>MUNICIPIO</th>\n",
       "      <th>MINERIO_PRINCIPAL</th>\n",
       "      <th>ALTURA_ATUAL_metros</th>\n",
       "      <th>VOLUME_ATUAL_m3</th>\n",
       "      <th>CATEGORIA_DE_RISCO</th>\n",
       "      <th>DANO_POTENCIAL_ASSOCIADO</th>\n",
       "      <th>CLASSE</th>\n",
       "      <th>INSERIDA_NA_PNSB</th>\n",
       "      <th>LATITUDE</th>\n",
       "      <th>LONGITUDE</th>\n",
       "    </tr>\n",
       "  </thead>\n",
       "  <tbody>\n",
       "    <tr>\n",
       "      <th>0</th>\n",
       "      <td>0-1</td>\n",
       "      <td>Mineração Taboca S.a.</td>\n",
       "      <td>34.019.992/0001-10</td>\n",
       "      <td>Sul do Equador</td>\n",
       "      <td>AM</td>\n",
       "      <td>PRESIDENTE FIGUEIREDO</td>\n",
       "      <td>Minério de Estanho Primário</td>\n",
       "      <td>22.0</td>\n",
       "      <td>27700000.0</td>\n",
       "      <td>Baixa</td>\n",
       "      <td>Média</td>\n",
       "      <td>C</td>\n",
       "      <td>Sim</td>\n",
       "      <td>0.733361111111111</td>\n",
       "      <td>-60.1383888888889</td>\n",
       "    </tr>\n",
       "    <tr>\n",
       "      <th>1</th>\n",
       "      <td>103 (Cruz)</td>\n",
       "      <td>Mineração Taboca S.a.</td>\n",
       "      <td>34.019.992/0001-10</td>\n",
       "      <td>Sul do Equador</td>\n",
       "      <td>AM</td>\n",
       "      <td>PRESIDENTE FIGUEIREDO</td>\n",
       "      <td>Minério de Estanho Primário</td>\n",
       "      <td>10.3</td>\n",
       "      <td>924000.0</td>\n",
       "      <td>Baixa</td>\n",
       "      <td>Média</td>\n",
       "      <td>C</td>\n",
       "      <td>Sim</td>\n",
       "      <td>0.785722222222222</td>\n",
       "      <td>-60.1419166666667</td>\n",
       "    </tr>\n",
       "    <tr>\n",
       "      <th>2</th>\n",
       "      <td>111 (Índio)</td>\n",
       "      <td>Mineração Taboca S.a.</td>\n",
       "      <td>34.019.992/0001-10</td>\n",
       "      <td>Sul do Equador</td>\n",
       "      <td>AM</td>\n",
       "      <td>PRESIDENTE FIGUEIREDO</td>\n",
       "      <td>Minério de Estanho Primário</td>\n",
       "      <td>5.0</td>\n",
       "      <td>48873.0</td>\n",
       "      <td>Baixa</td>\n",
       "      <td>Média</td>\n",
       "      <td>C</td>\n",
       "      <td>Sim</td>\n",
       "      <td>0.789666666666667</td>\n",
       "      <td>-60.1442777777778</td>\n",
       "    </tr>\n",
       "    <tr>\n",
       "      <th>3</th>\n",
       "      <td>158 (A-1)</td>\n",
       "      <td>Mineração Taboca S.a.</td>\n",
       "      <td>34.019.992/0001-10</td>\n",
       "      <td>Sul do Equador</td>\n",
       "      <td>AM</td>\n",
       "      <td>PRESIDENTE FIGUEIREDO</td>\n",
       "      <td>Minério de Estanho Primário</td>\n",
       "      <td>30.0</td>\n",
       "      <td>53380000.0</td>\n",
       "      <td>Baixa</td>\n",
       "      <td>Alta</td>\n",
       "      <td>B</td>\n",
       "      <td>Sim</td>\n",
       "      <td>0.738027777777778</td>\n",
       "      <td>-60.0789166666667</td>\n",
       "    </tr>\n",
       "    <tr>\n",
       "      <th>4</th>\n",
       "      <td>161 (A-2)</td>\n",
       "      <td>Mineração Taboca S.a.</td>\n",
       "      <td>34.019.992/0001-10</td>\n",
       "      <td>Sul do Equador</td>\n",
       "      <td>AM</td>\n",
       "      <td>PRESIDENTE FIGUEIREDO</td>\n",
       "      <td>Minério de Estanho Primário</td>\n",
       "      <td>22.0</td>\n",
       "      <td>1018054.0</td>\n",
       "      <td>Baixa</td>\n",
       "      <td>Média</td>\n",
       "      <td>C</td>\n",
       "      <td>Sim</td>\n",
       "      <td>0.732286944444444</td>\n",
       "      <td>-60.0689988888889</td>\n",
       "    </tr>\n",
       "  </tbody>\n",
       "</table>\n",
       "</div>"
      ],
      "text/plain": [
       "  NOME_BARRAGEM_MINERACAO   NOME_DO_EMPREENDEDOR            CPF_CNPJ  \\\n",
       "0                     0-1  Mineração Taboca S.a.  34.019.992/0001-10   \n",
       "1              103 (Cruz)  Mineração Taboca S.a.  34.019.992/0001-10   \n",
       "2             111 (Índio)  Mineração Taboca S.a.  34.019.992/0001-10   \n",
       "3               158 (A-1)  Mineração Taboca S.a.  34.019.992/0001-10   \n",
       "4               161 (A-2)  Mineração Taboca S.a.  34.019.992/0001-10   \n",
       "\n",
       "   POSICIONAMENTO  UF              MUNICIPIO            MINERIO_PRINCIPAL  \\\n",
       "0  Sul do Equador  AM  PRESIDENTE FIGUEIREDO  Minério de Estanho Primário   \n",
       "1  Sul do Equador  AM  PRESIDENTE FIGUEIREDO  Minério de Estanho Primário   \n",
       "2  Sul do Equador  AM  PRESIDENTE FIGUEIREDO  Minério de Estanho Primário   \n",
       "3  Sul do Equador  AM  PRESIDENTE FIGUEIREDO  Minério de Estanho Primário   \n",
       "4  Sul do Equador  AM  PRESIDENTE FIGUEIREDO  Minério de Estanho Primário   \n",
       "\n",
       "   ALTURA_ATUAL_metros  VOLUME_ATUAL_m3 CATEGORIA_DE_RISCO  \\\n",
       "0                 22.0       27700000.0              Baixa   \n",
       "1                 10.3         924000.0              Baixa   \n",
       "2                  5.0          48873.0              Baixa   \n",
       "3                 30.0       53380000.0              Baixa   \n",
       "4                 22.0        1018054.0              Baixa   \n",
       "\n",
       "  DANO_POTENCIAL_ASSOCIADO CLASSE INSERIDA_NA_PNSB           LATITUDE  \\\n",
       "0                    Média      C              Sim  0.733361111111111   \n",
       "1                    Média      C              Sim  0.785722222222222   \n",
       "2                    Média      C              Sim  0.789666666666667   \n",
       "3                     Alta      B              Sim  0.738027777777778   \n",
       "4                    Média      C              Sim  0.732286944444444   \n",
       "\n",
       "           LONGITUDE  \n",
       "0  -60.1383888888889  \n",
       "1  -60.1419166666667  \n",
       "2  -60.1442777777778  \n",
       "3  -60.0789166666667  \n",
       "4  -60.0689988888889  "
      ]
     },
     "execution_count": 7,
     "metadata": {},
     "output_type": "execute_result"
    },
    {
     "data": {
      "application/javascript": [
       "\n",
       "            setTimeout(function() {\n",
       "                var nbb_cell_id = 7;\n",
       "                var nbb_unformatted_code = \"barragens.head()\";\n",
       "                var nbb_formatted_code = \"barragens.head()\";\n",
       "                var nbb_cells = Jupyter.notebook.get_cells();\n",
       "                for (var i = 0; i < nbb_cells.length; ++i) {\n",
       "                    if (nbb_cells[i].input_prompt_number == nbb_cell_id) {\n",
       "                        if (nbb_cells[i].get_text() == nbb_unformatted_code) {\n",
       "                             nbb_cells[i].set_text(nbb_formatted_code);\n",
       "                        }\n",
       "                        break;\n",
       "                    }\n",
       "                }\n",
       "            }, 500);\n",
       "            "
      ],
      "text/plain": [
       "<IPython.core.display.Javascript object>"
      ]
     },
     "metadata": {},
     "output_type": "display_data"
    }
   ],
   "source": [
    "barragens.head()"
   ]
  },
  {
   "cell_type": "code",
   "execution_count": 11,
   "metadata": {},
   "outputs": [
    {
     "data": {
      "image/png": "[encoded data removed]",
      "text/plain": [
       "<Figure size 864x432 with 1 Axes>"
      ]
     },
     "metadata": {},
     "output_type": "display_data"
    },
    {
     "data": {
      "application/javascript": [
       "\n",
       "            setTimeout(function() {\n",
       "                var nbb_cell_id = 11;\n",
       "                var nbb_unformatted_code = \"# % DE MISSING\\nna_cols = [col for col in barragens if (barragens[col].isna().sum() > 0)] # pega colunas que tem missing\\nax = (\\n    barragens[na_cols]\\n    .isna()\\n    .mean() # percentual de missing\\n    .sort_values(ascending=False) # ordena de forma decrescente\\n    .mul(100) # em centenas (ao inves de ser 0.45 vai ser 45)\\n    .plot(kind=\\\"barh\\\", figsize=(12, 6)) # plota grafico de barras horizontal\\n)\\n_ = ax.set_xlabel(\\\"% de Missing \\\") # titulo do eixo x\\n_ = ax.set_title(\\\"Dataset ANM de Barragens: An\\u00e1lise de Missing  \\\\n\\\") # titulo principal\";\n",
       "                var nbb_formatted_code = \"# % DE MISSING\\nna_cols = [\\n    col for col in barragens if (barragens[col].isna().sum() > 0)\\n]  # pega colunas que tem missing\\nax = (\\n    barragens[na_cols]\\n    .isna()\\n    .mean()  # percentual de missing\\n    .sort_values(ascending=False)  # ordena de forma decrescente\\n    .mul(100)  # em centenas (ao inves de ser 0.45 vai ser 45)\\n    .plot(kind=\\\"barh\\\", figsize=(12, 6))  # plota grafico de barras horizontal\\n)\\n_ = ax.set_xlabel(\\\"% de Missing \\\")  # titulo do eixo x\\n_ = ax.set_title(\\\"Dataset ANM de Barragens: An\\u00e1lise de Missing  \\\\n\\\")  # titulo principal\";\n",
       "                var nbb_cells = Jupyter.notebook.get_cells();\n",
       "                for (var i = 0; i < nbb_cells.length; ++i) {\n",
       "                    if (nbb_cells[i].input_prompt_number == nbb_cell_id) {\n",
       "                        if (nbb_cells[i].get_text() == nbb_unformatted_code) {\n",
       "                             nbb_cells[i].set_text(nbb_formatted_code);\n",
       "                        }\n",
       "                        break;\n",
       "                    }\n",
       "                }\n",
       "            }, 500);\n",
       "            "
      ],
      "text/plain": [
       "<IPython.core.display.Javascript object>"
      ]
     },
     "metadata": {},
     "output_type": "display_data"
    }
   ],
   "source": [
    "# % DE MISSING\n",
    "na_cols = [\n",
    "    col for col in barragens if (barragens[col].isna().sum() > 0)\n",
    "]  # pega colunas que tem missing\n",
    "ax = (\n",
    "    barragens[na_cols]\n",
    "    .isna()\n",
    "    .mean()  # percentual de missing\n",
    "    .sort_values(ascending=False)  # ordena de forma decrescente\n",
    "    .mul(100)  # em centenas (ao inves de ser 0.45 vai ser 45)\n",
    "    .plot(kind=\"barh\", figsize=(12, 6))  # plota grafico de barras horizontal\n",
    ")\n",
    "_ = ax.set_xlabel(\"% de Missing \")  # titulo do eixo x\n",
    "_ = ax.set_title(\"Dataset ANM de Barragens: Análise de Missing  \\n\")  # titulo principal"
   ]
  },
  {
   "cell_type": "code",
   "execution_count": 14,
   "metadata": {},
   "outputs": [
    {
     "data": {
      "text/html": [
       "<div>\n",
       "<style scoped>\n",
       "    .dataframe tbody tr th:only-of-type {\n",
       "        vertical-align: middle;\n",
       "    }\n",
       "\n",
       "    .dataframe tbody tr th {\n",
       "        vertical-align: top;\n",
       "    }\n",
       "\n",
       "    .dataframe thead th {\n",
       "        text-align: right;\n",
       "    }\n",
       "</style>\n",
       "<table border=\"1\" class=\"dataframe\">\n",
       "  <thead>\n",
       "    <tr style=\"text-align: right;\">\n",
       "      <th></th>\n",
       "      <th>NOME_BARRAGEM_MINERACAO</th>\n",
       "      <th>NOME_DO_EMPREENDEDOR</th>\n",
       "      <th>CPF_CNPJ</th>\n",
       "      <th>POSICIONAMENTO</th>\n",
       "      <th>UF</th>\n",
       "      <th>MUNICIPIO</th>\n",
       "      <th>MINERIO_PRINCIPAL</th>\n",
       "      <th>ALTURA_ATUAL_metros</th>\n",
       "      <th>VOLUME_ATUAL_m3</th>\n",
       "      <th>CATEGORIA_DE_RISCO</th>\n",
       "      <th>DANO_POTENCIAL_ASSOCIADO</th>\n",
       "      <th>CLASSE</th>\n",
       "      <th>INSERIDA_NA_PNSB</th>\n",
       "      <th>LATITUDE</th>\n",
       "      <th>LONGITUDE</th>\n",
       "    </tr>\n",
       "  </thead>\n",
       "  <tbody>\n",
       "    <tr>\n",
       "      <th>390</th>\n",
       "      <td>22</td>\n",
       "      <td>Mineração Taboca S.a.</td>\n",
       "      <td>34.019.992/0001-10</td>\n",
       "      <td>Sul do Equador</td>\n",
       "      <td>AM</td>\n",
       "      <td>PRESIDENTE FIGUEIREDO</td>\n",
       "      <td>Minério de Estanho Primário</td>\n",
       "      <td>6.0</td>\n",
       "      <td>56519.0</td>\n",
       "      <td>NaN</td>\n",
       "      <td>NaN</td>\n",
       "      <td>NaN</td>\n",
       "      <td>Não</td>\n",
       "      <td>0.738638888888889</td>\n",
       "      <td>-60.1673888888889</td>\n",
       "    </tr>\n",
       "    <tr>\n",
       "      <th>391</th>\n",
       "      <td>42</td>\n",
       "      <td>Mineração Taboca S.a.</td>\n",
       "      <td>34.019.992/0001-10</td>\n",
       "      <td>Sul do Equador</td>\n",
       "      <td>AM</td>\n",
       "      <td>PRESIDENTE FIGUEIREDO</td>\n",
       "      <td>Minério de Estanho Primário</td>\n",
       "      <td>4.9</td>\n",
       "      <td>130979.0</td>\n",
       "      <td>NaN</td>\n",
       "      <td>NaN</td>\n",
       "      <td>NaN</td>\n",
       "      <td>Não</td>\n",
       "      <td>0.723527777777778</td>\n",
       "      <td>-60.1967222222222</td>\n",
       "    </tr>\n",
       "    <tr>\n",
       "      <th>392</th>\n",
       "      <td>69</td>\n",
       "      <td>Mineração Taboca S.a.</td>\n",
       "      <td>34.019.992/0001-10</td>\n",
       "      <td>Sul do Equador</td>\n",
       "      <td>AM</td>\n",
       "      <td>PRESIDENTE FIGUEIREDO</td>\n",
       "      <td>Minério de Estanho Primário</td>\n",
       "      <td>5.0</td>\n",
       "      <td>84941.0</td>\n",
       "      <td>NaN</td>\n",
       "      <td>NaN</td>\n",
       "      <td>NaN</td>\n",
       "      <td>Não</td>\n",
       "      <td>0.743194444444444</td>\n",
       "      <td>-60.2014166666667</td>\n",
       "    </tr>\n",
       "    <tr>\n",
       "      <th>393</th>\n",
       "      <td>189</td>\n",
       "      <td>Mineração Taboca S.a.</td>\n",
       "      <td>34.019.992/0001-10</td>\n",
       "      <td>Sul do Equador</td>\n",
       "      <td>AM</td>\n",
       "      <td>PRESIDENTE FIGUEIREDO</td>\n",
       "      <td>Minério de Estanho Primário</td>\n",
       "      <td>5.0</td>\n",
       "      <td>209969.0</td>\n",
       "      <td>NaN</td>\n",
       "      <td>NaN</td>\n",
       "      <td>NaN</td>\n",
       "      <td>Não</td>\n",
       "      <td>0.789555555555556</td>\n",
       "      <td>-60.0130277777778</td>\n",
       "    </tr>\n",
       "  </tbody>\n",
       "</table>\n",
       "</div>"
      ],
      "text/plain": [
       "    NOME_BARRAGEM_MINERACAO   NOME_DO_EMPREENDEDOR            CPF_CNPJ  \\\n",
       "390                      22  Mineração Taboca S.a.  34.019.992/0001-10   \n",
       "391                      42  Mineração Taboca S.a.  34.019.992/0001-10   \n",
       "392                      69  Mineração Taboca S.a.  34.019.992/0001-10   \n",
       "393                     189  Mineração Taboca S.a.  34.019.992/0001-10   \n",
       "\n",
       "     POSICIONAMENTO  UF              MUNICIPIO            MINERIO_PRINCIPAL  \\\n",
       "390  Sul do Equador  AM  PRESIDENTE FIGUEIREDO  Minério de Estanho Primário   \n",
       "391  Sul do Equador  AM  PRESIDENTE FIGUEIREDO  Minério de Estanho Primário   \n",
       "392  Sul do Equador  AM  PRESIDENTE FIGUEIREDO  Minério de Estanho Primário   \n",
       "393  Sul do Equador  AM  PRESIDENTE FIGUEIREDO  Minério de Estanho Primário   \n",
       "\n",
       "     ALTURA_ATUAL_metros  VOLUME_ATUAL_m3 CATEGORIA_DE_RISCO  \\\n",
       "390                  6.0          56519.0                NaN   \n",
       "391                  4.9         130979.0                NaN   \n",
       "392                  5.0          84941.0                NaN   \n",
       "393                  5.0         209969.0                NaN   \n",
       "\n",
       "    DANO_POTENCIAL_ASSOCIADO CLASSE INSERIDA_NA_PNSB           LATITUDE  \\\n",
       "390                      NaN    NaN              Não  0.738638888888889   \n",
       "391                      NaN    NaN              Não  0.723527777777778   \n",
       "392                      NaN    NaN              Não  0.743194444444444   \n",
       "393                      NaN    NaN              Não  0.789555555555556   \n",
       "\n",
       "             LONGITUDE  \n",
       "390  -60.1673888888889  \n",
       "391  -60.1967222222222  \n",
       "392  -60.2014166666667  \n",
       "393  -60.0130277777778  "
      ]
     },
     "execution_count": 14,
     "metadata": {},
     "output_type": "execute_result"
    },
    {
     "data": {
      "application/javascript": [
       "\n",
       "            setTimeout(function() {\n",
       "                var nbb_cell_id = 14;\n",
       "                var nbb_unformatted_code = \"barragens[barragens[\\\"CATEGORIA_DE_RISCO\\\"].isna()].head(4)\";\n",
       "                var nbb_formatted_code = \"barragens[barragens[\\\"CATEGORIA_DE_RISCO\\\"].isna()].head(4)\";\n",
       "                var nbb_cells = Jupyter.notebook.get_cells();\n",
       "                for (var i = 0; i < nbb_cells.length; ++i) {\n",
       "                    if (nbb_cells[i].input_prompt_number == nbb_cell_id) {\n",
       "                        if (nbb_cells[i].get_text() == nbb_unformatted_code) {\n",
       "                             nbb_cells[i].set_text(nbb_formatted_code);\n",
       "                        }\n",
       "                        break;\n",
       "                    }\n",
       "                }\n",
       "            }, 500);\n",
       "            "
      ],
      "text/plain": [
       "<IPython.core.display.Javascript object>"
      ]
     },
     "metadata": {},
     "output_type": "display_data"
    }
   ],
   "source": [
    "barragens[barragens[\"CATEGORIA_DE_RISCO\"].isna()].head(4)"
   ]
  },
  {
   "cell_type": "markdown",
   "metadata": {},
   "source": [
    "O primeiro dado preocupante é a ausência da informação de risco para mais de 40% da base.<br> \n",
    "\n",
    "Meus primeiros questionamentos foram se seria isso um problema de como o dado foi levantado (autores fizeram algum download ou tratativa equivocada), de divulgação (ANM divulgou dados incompletos) ou mesmo de carência de regulação (nem todas as barragens precisam dessas avaliações de risco)?<br>\n",
    "\n",
    "De cara, parecia-me pouco provável que o último possa ocorrer. Imagino que seja obrigatória a avaliação antes da construção da barragem, e essa avaliação seja o que gera essa classificação. Seria então ausência de transparência do órgão ou apenas que o dado não foi coletado? No Kaggle, não temos detalhes de como esses dados foram extraídos, o que dificulta um pouco mais a análise. Teria que entrar em contato com os autores. Achei que os dados estivessem no link http://www.snisb.gov.br/portal/snisb/relatorio-anual-de-seguranca-de-barragem/2017, mas não parece ser a mesma coisa. Olhando aqui https://app.anm.gov.br/SIGBM/Publico/ClassificacaoNacionalDaBarragem parece essa é a real fonte e que realmente temos missing na base. Por quê?\n",
    "\n",
    "Estes questionamentos refletem boa parte do dia do cientista de dados: entender o que são os números. São falhas na interpretação deles ou na tarefa em que eles foram o resultado? É preciso entender com os donos da informação. Uma coisa que podemos ver é que há um padrão na altura e volume dos missings, são todos baixos. Veja no describe a seguir: "
   ]
  },
  {
   "cell_type": "code",
   "execution_count": 15,
   "metadata": {},
   "outputs": [
    {
     "data": {
      "text/html": [
       "<div>\n",
       "<style scoped>\n",
       "    .dataframe tbody tr th:only-of-type {\n",
       "        vertical-align: middle;\n",
       "    }\n",
       "\n",
       "    .dataframe tbody tr th {\n",
       "        vertical-align: top;\n",
       "    }\n",
       "\n",
       "    .dataframe thead th {\n",
       "        text-align: right;\n",
       "    }\n",
       "</style>\n",
       "<table border=\"1\" class=\"dataframe\">\n",
       "  <thead>\n",
       "    <tr style=\"text-align: right;\">\n",
       "      <th></th>\n",
       "      <th>ALTURA_ATUAL_metros</th>\n",
       "      <th>VOLUME_ATUAL_m3</th>\n",
       "    </tr>\n",
       "  </thead>\n",
       "  <tbody>\n",
       "    <tr>\n",
       "      <th>count</th>\n",
       "      <td>307.000000</td>\n",
       "      <td>3.170000e+02</td>\n",
       "    </tr>\n",
       "    <tr>\n",
       "      <th>mean</th>\n",
       "      <td>6.961922</td>\n",
       "      <td>1.417104e+05</td>\n",
       "    </tr>\n",
       "    <tr>\n",
       "      <th>std</th>\n",
       "      <td>3.739758</td>\n",
       "      <td>2.813656e+05</td>\n",
       "    </tr>\n",
       "    <tr>\n",
       "      <th>min</th>\n",
       "      <td>1.000000</td>\n",
       "      <td>1.000000e-02</td>\n",
       "    </tr>\n",
       "    <tr>\n",
       "      <th>25%</th>\n",
       "      <td>4.000000</td>\n",
       "      <td>5.250000e+03</td>\n",
       "    </tr>\n",
       "    <tr>\n",
       "      <th>50%</th>\n",
       "      <td>6.200000</td>\n",
       "      <td>2.000000e+04</td>\n",
       "    </tr>\n",
       "    <tr>\n",
       "      <th>75%</th>\n",
       "      <td>10.000000</td>\n",
       "      <td>1.400590e+05</td>\n",
       "    </tr>\n",
       "    <tr>\n",
       "      <th>max</th>\n",
       "      <td>14.900000</td>\n",
       "      <td>1.965306e+06</td>\n",
       "    </tr>\n",
       "  </tbody>\n",
       "</table>\n",
       "</div>"
      ],
      "text/plain": [
       "       ALTURA_ATUAL_metros  VOLUME_ATUAL_m3\n",
       "count           307.000000     3.170000e+02\n",
       "mean              6.961922     1.417104e+05\n",
       "std               3.739758     2.813656e+05\n",
       "min               1.000000     1.000000e-02\n",
       "25%               4.000000     5.250000e+03\n",
       "50%               6.200000     2.000000e+04\n",
       "75%              10.000000     1.400590e+05\n",
       "max              14.900000     1.965306e+06"
      ]
     },
     "execution_count": 15,
     "metadata": {},
     "output_type": "execute_result"
    },
    {
     "data": {
      "application/javascript": [
       "\n",
       "            setTimeout(function() {\n",
       "                var nbb_cell_id = 15;\n",
       "                var nbb_unformatted_code = \"barragens[barragens[\\\"CATEGORIA_DE_RISCO\\\"].isna()].describe()\";\n",
       "                var nbb_formatted_code = \"barragens[barragens[\\\"CATEGORIA_DE_RISCO\\\"].isna()].describe()\";\n",
       "                var nbb_cells = Jupyter.notebook.get_cells();\n",
       "                for (var i = 0; i < nbb_cells.length; ++i) {\n",
       "                    if (nbb_cells[i].input_prompt_number == nbb_cell_id) {\n",
       "                        if (nbb_cells[i].get_text() == nbb_unformatted_code) {\n",
       "                             nbb_cells[i].set_text(nbb_formatted_code);\n",
       "                        }\n",
       "                        break;\n",
       "                    }\n",
       "                }\n",
       "            }, 500);\n",
       "            "
      ],
      "text/plain": [
       "<IPython.core.display.Javascript object>"
      ]
     },
     "metadata": {},
     "output_type": "display_data"
    }
   ],
   "source": [
    "barragens[barragens[\"CATEGORIA_DE_RISCO\"].isna()].describe()"
   ]
  },
  {
   "cell_type": "markdown",
   "metadata": {},
   "source": [
    "As barragens contendo missing possuem altura em metros menor do que 15. Talvez por isso não tenham tido essa avaliação de risco, por não se encaixarem na política nacional de segurança de barragens.\n",
    "\n",
    "<img src = 'pnsb_criterios.png'>"
   ]
  },
  {
   "cell_type": "code",
   "execution_count": 17,
   "metadata": {},
   "outputs": [
    {
     "data": {
      "text/plain": [
       "1    390\n",
       "0    324\n",
       "Name: dummy_PNSB, dtype: int64"
      ]
     },
     "execution_count": 17,
     "metadata": {},
     "output_type": "execute_result"
    },
    {
     "data": {
      "application/javascript": [
       "\n",
       "            setTimeout(function() {\n",
       "                var nbb_cell_id = 17;\n",
       "                var nbb_unformatted_code = \"barragens[\\\"dummy_PNSB\\\"] = np.where(barragens[\\\"INSERIDA_NA_PNSB\\\"] == \\\"Sim\\\", 1, 0)\\nbarragens[\\\"dummy_PNSB\\\"].value_counts()\";\n",
       "                var nbb_formatted_code = \"barragens[\\\"dummy_PNSB\\\"] = np.where(barragens[\\\"INSERIDA_NA_PNSB\\\"] == \\\"Sim\\\", 1, 0)\\nbarragens[\\\"dummy_PNSB\\\"].value_counts()\";\n",
       "                var nbb_cells = Jupyter.notebook.get_cells();\n",
       "                for (var i = 0; i < nbb_cells.length; ++i) {\n",
       "                    if (nbb_cells[i].input_prompt_number == nbb_cell_id) {\n",
       "                        if (nbb_cells[i].get_text() == nbb_unformatted_code) {\n",
       "                             nbb_cells[i].set_text(nbb_formatted_code);\n",
       "                        }\n",
       "                        break;\n",
       "                    }\n",
       "                }\n",
       "            }, 500);\n",
       "            "
      ],
      "text/plain": [
       "<IPython.core.display.Javascript object>"
      ]
     },
     "metadata": {},
     "output_type": "display_data"
    }
   ],
   "source": [
    "barragens[\"dummy_PNSB\"] = np.where(barragens[\"INSERIDA_NA_PNSB\"] == \"Sim\", 1, 0)\n",
    "barragens[\"dummy_PNSB\"].value_counts()"
   ]
  },
  {
   "cell_type": "code",
   "execution_count": 18,
   "metadata": {},
   "outputs": [
    {
     "data": {
      "text/plain": [
       "1    0.546218\n",
       "0    0.453782\n",
       "Name: dummy_PNSB, dtype: float64"
      ]
     },
     "execution_count": 18,
     "metadata": {},
     "output_type": "execute_result"
    },
    {
     "data": {
      "application/javascript": [
       "\n",
       "            setTimeout(function() {\n",
       "                var nbb_cell_id = 18;\n",
       "                var nbb_unformatted_code = \"barragens['dummy_PNSB'].value_counts(normalize=True)\";\n",
       "                var nbb_formatted_code = \"barragens[\\\"dummy_PNSB\\\"].value_counts(normalize=True)\";\n",
       "                var nbb_cells = Jupyter.notebook.get_cells();\n",
       "                for (var i = 0; i < nbb_cells.length; ++i) {\n",
       "                    if (nbb_cells[i].input_prompt_number == nbb_cell_id) {\n",
       "                        if (nbb_cells[i].get_text() == nbb_unformatted_code) {\n",
       "                             nbb_cells[i].set_text(nbb_formatted_code);\n",
       "                        }\n",
       "                        break;\n",
       "                    }\n",
       "                }\n",
       "            }, 500);\n",
       "            "
      ],
      "text/plain": [
       "<IPython.core.display.Javascript object>"
      ]
     },
     "metadata": {},
     "output_type": "display_data"
    }
   ],
   "source": [
    "barragens[\"dummy_PNSB\"].value_counts(normalize=True)"
   ]
  },
  {
   "cell_type": "code",
   "execution_count": 19,
   "metadata": {},
   "outputs": [
    {
     "data": {
      "text/html": [
       "<div>\n",
       "<style scoped>\n",
       "    .dataframe tbody tr th:only-of-type {\n",
       "        vertical-align: middle;\n",
       "    }\n",
       "\n",
       "    .dataframe tbody tr th {\n",
       "        vertical-align: top;\n",
       "    }\n",
       "\n",
       "    .dataframe thead th {\n",
       "        text-align: right;\n",
       "    }\n",
       "</style>\n",
       "<table border=\"1\" class=\"dataframe\">\n",
       "  <thead>\n",
       "    <tr style=\"text-align: right;\">\n",
       "      <th></th>\n",
       "      <th>MINERIO_PRINCIPAL</th>\n",
       "      <th>sum_pnsb</th>\n",
       "      <th>max_altura</th>\n",
       "      <th>max_volume</th>\n",
       "      <th>media_altura</th>\n",
       "      <th>media_volume</th>\n",
       "    </tr>\n",
       "  </thead>\n",
       "  <tbody>\n",
       "    <tr>\n",
       "      <th>56</th>\n",
       "      <td>Sais</td>\n",
       "      <td>0</td>\n",
       "      <td>6.00</td>\n",
       "      <td>6362.07</td>\n",
       "      <td>6.0000</td>\n",
       "      <td>6362.070000</td>\n",
       "    </tr>\n",
       "    <tr>\n",
       "      <th>44</th>\n",
       "      <td>Magnesita</td>\n",
       "      <td>0</td>\n",
       "      <td>4.78</td>\n",
       "      <td>52912.30</td>\n",
       "      <td>4.7800</td>\n",
       "      <td>52912.300000</td>\n",
       "    </tr>\n",
       "    <tr>\n",
       "      <th>45</th>\n",
       "      <td>Bentonita</td>\n",
       "      <td>0</td>\n",
       "      <td>14.00</td>\n",
       "      <td>7500.00</td>\n",
       "      <td>14.0000</td>\n",
       "      <td>7500.000000</td>\n",
       "    </tr>\n",
       "    <tr>\n",
       "      <th>46</th>\n",
       "      <td>Cromita</td>\n",
       "      <td>0</td>\n",
       "      <td>14.60</td>\n",
       "      <td>201205.00</td>\n",
       "      <td>6.7125</td>\n",
       "      <td>73405.428571</td>\n",
       "    </tr>\n",
       "    <tr>\n",
       "      <th>47</th>\n",
       "      <td>Areia Quartzosa</td>\n",
       "      <td>0</td>\n",
       "      <td>9.00</td>\n",
       "      <td>6897.00</td>\n",
       "      <td>6.2500</td>\n",
       "      <td>4034.000000</td>\n",
       "    </tr>\n",
       "  </tbody>\n",
       "</table>\n",
       "</div>"
      ],
      "text/plain": [
       "   MINERIO_PRINCIPAL  sum_pnsb  max_altura  max_volume  media_altura  \\\n",
       "56              Sais         0        6.00     6362.07        6.0000   \n",
       "44         Magnesita         0        4.78    52912.30        4.7800   \n",
       "45         Bentonita         0       14.00     7500.00       14.0000   \n",
       "46           Cromita         0       14.60   201205.00        6.7125   \n",
       "47   Areia Quartzosa         0        9.00     6897.00        6.2500   \n",
       "\n",
       "    media_volume  \n",
       "56   6362.070000  \n",
       "44  52912.300000  \n",
       "45   7500.000000  \n",
       "46  73405.428571  \n",
       "47   4034.000000  "
      ]
     },
     "execution_count": 19,
     "metadata": {},
     "output_type": "execute_result"
    },
    {
     "data": {
      "application/javascript": [
       "\n",
       "            setTimeout(function() {\n",
       "                var nbb_cell_id = 19;\n",
       "                var nbb_unformatted_code = \"# Resumo por minerio\\nresumo = (\\n    barragens.groupby([\\\"MINERIO_PRINCIPAL\\\"], sort=False)\\n    .agg(\\n        sum_pnsb=(\\\"dummy_PNSB\\\", \\\"sum\\\"),\\n        max_altura=(\\\"ALTURA_ATUAL_metros\\\", \\\"max\\\"),\\n        max_volume=(\\\"VOLUME_ATUAL_m3\\\", \\\"max\\\"),\\n        media_altura=(\\\"ALTURA_ATUAL_metros\\\", \\\"mean\\\"),\\n        media_volume=(\\\"VOLUME_ATUAL_m3\\\", \\\"mean\\\"),\\n    )\\n    .reset_index()\\n)\\n\\nresumo.sort_values(by=\\\"sum_pnsb\\\").head()\";\n",
       "                var nbb_formatted_code = \"# Resumo por minerio\\nresumo = (\\n    barragens.groupby([\\\"MINERIO_PRINCIPAL\\\"], sort=False)\\n    .agg(\\n        sum_pnsb=(\\\"dummy_PNSB\\\", \\\"sum\\\"),\\n        max_altura=(\\\"ALTURA_ATUAL_metros\\\", \\\"max\\\"),\\n        max_volume=(\\\"VOLUME_ATUAL_m3\\\", \\\"max\\\"),\\n        media_altura=(\\\"ALTURA_ATUAL_metros\\\", \\\"mean\\\"),\\n        media_volume=(\\\"VOLUME_ATUAL_m3\\\", \\\"mean\\\"),\\n    )\\n    .reset_index()\\n)\\n\\nresumo.sort_values(by=\\\"sum_pnsb\\\").head()\";\n",
       "                var nbb_cells = Jupyter.notebook.get_cells();\n",
       "                for (var i = 0; i < nbb_cells.length; ++i) {\n",
       "                    if (nbb_cells[i].input_prompt_number == nbb_cell_id) {\n",
       "                        if (nbb_cells[i].get_text() == nbb_unformatted_code) {\n",
       "                             nbb_cells[i].set_text(nbb_formatted_code);\n",
       "                        }\n",
       "                        break;\n",
       "                    }\n",
       "                }\n",
       "            }, 500);\n",
       "            "
      ],
      "text/plain": [
       "<IPython.core.display.Javascript object>"
      ]
     },
     "metadata": {},
     "output_type": "display_data"
    }
   ],
   "source": [
    "# Resumo por minerio\n",
    "resumo = (\n",
    "    barragens.groupby([\"MINERIO_PRINCIPAL\"], sort=False)\n",
    "    .agg(\n",
    "        sum_pnsb=(\"dummy_PNSB\", \"sum\"),\n",
    "        max_altura=(\"ALTURA_ATUAL_metros\", \"max\"),\n",
    "        max_volume=(\"VOLUME_ATUAL_m3\", \"max\"),\n",
    "        media_altura=(\"ALTURA_ATUAL_metros\", \"mean\"),\n",
    "        media_volume=(\"VOLUME_ATUAL_m3\", \"mean\"),\n",
    "    )\n",
    "    .reset_index()\n",
    ")\n",
    "\n",
    "resumo.sort_values(by=\"sum_pnsb\").head()"
   ]
  },
  {
   "cell_type": "code",
   "execution_count": 22,
   "metadata": {},
   "outputs": [
    {
     "data": {
      "image/png": "[encoded data removed]",
      "text/plain": [
       "<Figure size 864x432 with 1 Axes>"
      ]
     },
     "metadata": {},
     "output_type": "display_data"
    },
    {
     "data": {
      "application/javascript": [
       "\n",
       "            setTimeout(function() {\n",
       "                var nbb_cell_id = 22;\n",
       "                var nbb_unformatted_code = \"_ = plt.figure(1, figsize=(12, 6))\\n_ = barragens[\\\"MINERIO_PRINCIPAL\\\"].value_counts()[:20].plot(kind=\\\"barh\\\", color=\\\"green\\\")\\n_ = plt.title(\\\"Top 20 Barragens por Tipo de Min\\u00e9rio em Dep\\u00f3sito\\\")\";\n",
       "                var nbb_formatted_code = \"_ = plt.figure(1, figsize=(12, 6))\\n_ = barragens[\\\"MINERIO_PRINCIPAL\\\"].value_counts()[:20].plot(kind=\\\"barh\\\", color=\\\"green\\\")\\n_ = plt.title(\\\"Top 20 Barragens por Tipo de Min\\u00e9rio em Dep\\u00f3sito\\\")\";\n",
       "                var nbb_cells = Jupyter.notebook.get_cells();\n",
       "                for (var i = 0; i < nbb_cells.length; ++i) {\n",
       "                    if (nbb_cells[i].input_prompt_number == nbb_cell_id) {\n",
       "                        if (nbb_cells[i].get_text() == nbb_unformatted_code) {\n",
       "                             nbb_cells[i].set_text(nbb_formatted_code);\n",
       "                        }\n",
       "                        break;\n",
       "                    }\n",
       "                }\n",
       "            }, 500);\n",
       "            "
      ],
      "text/plain": [
       "<IPython.core.display.Javascript object>"
      ]
     },
     "metadata": {},
     "output_type": "display_data"
    }
   ],
   "source": [
    "_ = plt.figure(1, figsize=(12, 6))\n",
    "_ = barragens[\"MINERIO_PRINCIPAL\"].value_counts()[:20].plot(kind=\"barh\", color=\"green\")\n",
    "_ = plt.title(\"Quantidade de Barragens por Tipo de Minério em Depósito\")"
   ]
  },
  {
   "cell_type": "code",
   "execution_count": 23,
   "metadata": {},
   "outputs": [
    {
     "data": {
      "text/html": [
       "<div>\n",
       "<style scoped>\n",
       "    .dataframe tbody tr th:only-of-type {\n",
       "        vertical-align: middle;\n",
       "    }\n",
       "\n",
       "    .dataframe tbody tr th {\n",
       "        vertical-align: top;\n",
       "    }\n",
       "\n",
       "    .dataframe thead th {\n",
       "        text-align: right;\n",
       "    }\n",
       "</style>\n",
       "<table border=\"1\" class=\"dataframe\">\n",
       "  <thead>\n",
       "    <tr style=\"text-align: right;\">\n",
       "      <th></th>\n",
       "      <th>NOME_BARRAGEM_MINERACAO</th>\n",
       "      <th>NOME_DO_EMPREENDEDOR</th>\n",
       "      <th>CPF_CNPJ</th>\n",
       "      <th>POSICIONAMENTO</th>\n",
       "      <th>UF</th>\n",
       "      <th>MUNICIPIO</th>\n",
       "      <th>MINERIO_PRINCIPAL</th>\n",
       "      <th>ALTURA_ATUAL_metros</th>\n",
       "      <th>VOLUME_ATUAL_m3</th>\n",
       "      <th>CATEGORIA_DE_RISCO</th>\n",
       "      <th>DANO_POTENCIAL_ASSOCIADO</th>\n",
       "      <th>CLASSE</th>\n",
       "      <th>INSERIDA_NA_PNSB</th>\n",
       "      <th>LATITUDE</th>\n",
       "      <th>LONGITUDE</th>\n",
       "      <th>dummy_PNSB</th>\n",
       "    </tr>\n",
       "  </thead>\n",
       "  <tbody>\n",
       "    <tr>\n",
       "      <th>12</th>\n",
       "      <td>VILA NOVA</td>\n",
       "      <td>Unamgen Mineração e Metalurgia S.a.</td>\n",
       "      <td>42.593.269/0001-79</td>\n",
       "      <td>Norte do Equador</td>\n",
       "      <td>AP</td>\n",
       "      <td>MAZAGÃO</td>\n",
       "      <td>Minério de Ferro</td>\n",
       "      <td>15.5</td>\n",
       "      <td>440300.0</td>\n",
       "      <td>Baixa</td>\n",
       "      <td>Baixa</td>\n",
       "      <td>E</td>\n",
       "      <td>Sim</td>\n",
       "      <td>0.401673888888889</td>\n",
       "      <td>-51.7578088888889</td>\n",
       "      <td>1</td>\n",
       "    </tr>\n",
       "    <tr>\n",
       "      <th>38</th>\n",
       "      <td>5 (MAC)</td>\n",
       "      <td>Vale S A Filial: Vale Paraopeba</td>\n",
       "      <td>33.592.510/0035-01</td>\n",
       "      <td>Sul do Equador</td>\n",
       "      <td>MG</td>\n",
       "      <td>NOVA LIMA</td>\n",
       "      <td>Minério de Ferro</td>\n",
       "      <td>78.0</td>\n",
       "      <td>13718217.0</td>\n",
       "      <td>Baixa</td>\n",
       "      <td>Alta</td>\n",
       "      <td>B</td>\n",
       "      <td>Sim</td>\n",
       "      <td>-19.9770866666667</td>\n",
       "      <td>-43.8930027777778</td>\n",
       "      <td>1</td>\n",
       "    </tr>\n",
       "    <tr>\n",
       "      <th>39</th>\n",
       "      <td>5 (Mutuca)</td>\n",
       "      <td>Vale S A Filial: Vale Paraopeba</td>\n",
       "      <td>33.592.510/0035-01</td>\n",
       "      <td>Sul do Equador</td>\n",
       "      <td>MG</td>\n",
       "      <td>NOVA LIMA</td>\n",
       "      <td>Minério de Ferro</td>\n",
       "      <td>55.0</td>\n",
       "      <td>7100000.0</td>\n",
       "      <td>Baixa</td>\n",
       "      <td>Alta</td>\n",
       "      <td>B</td>\n",
       "      <td>Sim</td>\n",
       "      <td>-20.0262258333333</td>\n",
       "      <td>-43.9425625</td>\n",
       "      <td>1</td>\n",
       "    </tr>\n",
       "    <tr>\n",
       "      <th>40</th>\n",
       "      <td>7B</td>\n",
       "      <td>Vale S A Filial: Vale Paraopeba</td>\n",
       "      <td>33.592.510/0035-01</td>\n",
       "      <td>Sul do Equador</td>\n",
       "      <td>MG</td>\n",
       "      <td>NOVA LIMA</td>\n",
       "      <td>Minério de Ferro</td>\n",
       "      <td>27.4</td>\n",
       "      <td>79431.0</td>\n",
       "      <td>Baixa</td>\n",
       "      <td>Alta</td>\n",
       "      <td>B</td>\n",
       "      <td>Sim</td>\n",
       "      <td>-19.967365</td>\n",
       "      <td>-43.8829791666667</td>\n",
       "      <td>1</td>\n",
       "    </tr>\n",
       "    <tr>\n",
       "      <th>41</th>\n",
       "      <td>8B</td>\n",
       "      <td>Vale S A Filial: Vale Paraopeba</td>\n",
       "      <td>33.592.510/0035-01</td>\n",
       "      <td>Sul do Equador</td>\n",
       "      <td>MG</td>\n",
       "      <td>NOVA LIMA</td>\n",
       "      <td>Minério de Ferro</td>\n",
       "      <td>28.0</td>\n",
       "      <td>92635.0</td>\n",
       "      <td>Baixa</td>\n",
       "      <td>Alta</td>\n",
       "      <td>B</td>\n",
       "      <td>Sim</td>\n",
       "      <td>-19.9594205555556</td>\n",
       "      <td>-43.8726</td>\n",
       "      <td>1</td>\n",
       "    </tr>\n",
       "  </tbody>\n",
       "</table>\n",
       "</div>"
      ],
      "text/plain": [
       "   NOME_BARRAGEM_MINERACAO                 NOME_DO_EMPREENDEDOR  \\\n",
       "12               VILA NOVA  Unamgen Mineração e Metalurgia S.a.   \n",
       "38                 5 (MAC)      Vale S A Filial: Vale Paraopeba   \n",
       "39              5 (Mutuca)      Vale S A Filial: Vale Paraopeba   \n",
       "40                      7B      Vale S A Filial: Vale Paraopeba   \n",
       "41                      8B      Vale S A Filial: Vale Paraopeba   \n",
       "\n",
       "              CPF_CNPJ    POSICIONAMENTO  UF  MUNICIPIO MINERIO_PRINCIPAL  \\\n",
       "12  42.593.269/0001-79  Norte do Equador  AP    MAZAGÃO  Minério de Ferro   \n",
       "38  33.592.510/0035-01    Sul do Equador  MG  NOVA LIMA  Minério de Ferro   \n",
       "39  33.592.510/0035-01    Sul do Equador  MG  NOVA LIMA  Minério de Ferro   \n",
       "40  33.592.510/0035-01    Sul do Equador  MG  NOVA LIMA  Minério de Ferro   \n",
       "41  33.592.510/0035-01    Sul do Equador  MG  NOVA LIMA  Minério de Ferro   \n",
       "\n",
       "    ALTURA_ATUAL_metros  VOLUME_ATUAL_m3 CATEGORIA_DE_RISCO  \\\n",
       "12                 15.5         440300.0              Baixa   \n",
       "38                 78.0       13718217.0              Baixa   \n",
       "39                 55.0        7100000.0              Baixa   \n",
       "40                 27.4          79431.0              Baixa   \n",
       "41                 28.0          92635.0              Baixa   \n",
       "\n",
       "   DANO_POTENCIAL_ASSOCIADO CLASSE INSERIDA_NA_PNSB           LATITUDE  \\\n",
       "12                    Baixa      E              Sim  0.401673888888889   \n",
       "38                     Alta      B              Sim  -19.9770866666667   \n",
       "39                     Alta      B              Sim  -20.0262258333333   \n",
       "40                     Alta      B              Sim         -19.967365   \n",
       "41                     Alta      B              Sim  -19.9594205555556   \n",
       "\n",
       "            LONGITUDE  dummy_PNSB  \n",
       "12  -51.7578088888889           1  \n",
       "38  -43.8930027777778           1  \n",
       "39        -43.9425625           1  \n",
       "40  -43.8829791666667           1  \n",
       "41           -43.8726           1  "
      ]
     },
     "execution_count": 23,
     "metadata": {},
     "output_type": "execute_result"
    },
    {
     "data": {
      "application/javascript": [
       "\n",
       "            setTimeout(function() {\n",
       "                var nbb_cell_id = 23;\n",
       "                var nbb_unformatted_code = \"barragens[barragens[\\\"MINERIO_PRINCIPAL\\\"] == \\\"Min\\u00e9rio de Ferro\\\"].head(5)\";\n",
       "                var nbb_formatted_code = \"barragens[barragens[\\\"MINERIO_PRINCIPAL\\\"] == \\\"Min\\u00e9rio de Ferro\\\"].head(5)\";\n",
       "                var nbb_cells = Jupyter.notebook.get_cells();\n",
       "                for (var i = 0; i < nbb_cells.length; ++i) {\n",
       "                    if (nbb_cells[i].input_prompt_number == nbb_cell_id) {\n",
       "                        if (nbb_cells[i].get_text() == nbb_unformatted_code) {\n",
       "                             nbb_cells[i].set_text(nbb_formatted_code);\n",
       "                        }\n",
       "                        break;\n",
       "                    }\n",
       "                }\n",
       "            }, 500);\n",
       "            "
      ],
      "text/plain": [
       "<IPython.core.display.Javascript object>"
      ]
     },
     "metadata": {},
     "output_type": "display_data"
    }
   ],
   "source": [
    "barragens[barragens[\"MINERIO_PRINCIPAL\"] == \"Minério de Ferro\"].head(5)"
   ]
  },
  {
   "cell_type": "code",
   "execution_count": 24,
   "metadata": {},
   "outputs": [
    {
     "data": {
      "application/javascript": [
       "\n",
       "            setTimeout(function() {\n",
       "                var nbb_cell_id = 24;\n",
       "                var nbb_unformatted_code = \"barragens = pd.concat(\\n    [\\n        barragens,\\n        pd.get_dummies(barragens[\\\"CATEGORIA_DE_RISCO\\\"], prefix=\\\"Categoria_de_Risco\\\"),\\n    ],\\n    axis=1,\\n)\";\n",
       "                var nbb_formatted_code = \"barragens = pd.concat(\\n    [\\n        barragens,\\n        pd.get_dummies(barragens[\\\"CATEGORIA_DE_RISCO\\\"], prefix=\\\"Categoria_de_Risco\\\"),\\n    ],\\n    axis=1,\\n)\";\n",
       "                var nbb_cells = Jupyter.notebook.get_cells();\n",
       "                for (var i = 0; i < nbb_cells.length; ++i) {\n",
       "                    if (nbb_cells[i].input_prompt_number == nbb_cell_id) {\n",
       "                        if (nbb_cells[i].get_text() == nbb_unformatted_code) {\n",
       "                             nbb_cells[i].set_text(nbb_formatted_code);\n",
       "                        }\n",
       "                        break;\n",
       "                    }\n",
       "                }\n",
       "            }, 500);\n",
       "            "
      ],
      "text/plain": [
       "<IPython.core.display.Javascript object>"
      ]
     },
     "metadata": {},
     "output_type": "display_data"
    }
   ],
   "source": [
    "barragens = pd.concat(\n",
    "    [\n",
    "        barragens,\n",
    "        pd.get_dummies(barragens[\"CATEGORIA_DE_RISCO\"], prefix=\"Categoria_de_Risco\"),\n",
    "    ],\n",
    "    axis=1,\n",
    ")"
   ]
  },
  {
   "cell_type": "code",
   "execution_count": 25,
   "metadata": {},
   "outputs": [
    {
     "data": {
      "text/html": [
       "<div>\n",
       "<style scoped>\n",
       "    .dataframe tbody tr th:only-of-type {\n",
       "        vertical-align: middle;\n",
       "    }\n",
       "\n",
       "    .dataframe tbody tr th {\n",
       "        vertical-align: top;\n",
       "    }\n",
       "\n",
       "    .dataframe thead th {\n",
       "        text-align: right;\n",
       "    }\n",
       "</style>\n",
       "<table border=\"1\" class=\"dataframe\">\n",
       "  <thead>\n",
       "    <tr style=\"text-align: right;\">\n",
       "      <th></th>\n",
       "      <th>NOME_BARRAGEM_MINERACAO</th>\n",
       "      <th>NOME_DO_EMPREENDEDOR</th>\n",
       "      <th>CPF_CNPJ</th>\n",
       "      <th>POSICIONAMENTO</th>\n",
       "      <th>UF</th>\n",
       "      <th>MUNICIPIO</th>\n",
       "      <th>MINERIO_PRINCIPAL</th>\n",
       "      <th>ALTURA_ATUAL_metros</th>\n",
       "      <th>VOLUME_ATUAL_m3</th>\n",
       "      <th>CATEGORIA_DE_RISCO</th>\n",
       "      <th>DANO_POTENCIAL_ASSOCIADO</th>\n",
       "      <th>CLASSE</th>\n",
       "      <th>INSERIDA_NA_PNSB</th>\n",
       "      <th>LATITUDE</th>\n",
       "      <th>LONGITUDE</th>\n",
       "      <th>dummy_PNSB</th>\n",
       "      <th>Categoria_de_Risco_Alta</th>\n",
       "      <th>Categoria_de_Risco_Baixa</th>\n",
       "      <th>Categoria_de_Risco_Média</th>\n",
       "    </tr>\n",
       "  </thead>\n",
       "  <tbody>\n",
       "    <tr>\n",
       "      <th>0</th>\n",
       "      <td>0-1</td>\n",
       "      <td>Mineração Taboca S.a.</td>\n",
       "      <td>34.019.992/0001-10</td>\n",
       "      <td>Sul do Equador</td>\n",
       "      <td>AM</td>\n",
       "      <td>PRESIDENTE FIGUEIREDO</td>\n",
       "      <td>Minério de Estanho Primário</td>\n",
       "      <td>22.0</td>\n",
       "      <td>27700000.0</td>\n",
       "      <td>Baixa</td>\n",
       "      <td>Média</td>\n",
       "      <td>C</td>\n",
       "      <td>Sim</td>\n",
       "      <td>0.733361111111111</td>\n",
       "      <td>-60.1383888888889</td>\n",
       "      <td>1</td>\n",
       "      <td>0</td>\n",
       "      <td>1</td>\n",
       "      <td>0</td>\n",
       "    </tr>\n",
       "    <tr>\n",
       "      <th>1</th>\n",
       "      <td>103 (Cruz)</td>\n",
       "      <td>Mineração Taboca S.a.</td>\n",
       "      <td>34.019.992/0001-10</td>\n",
       "      <td>Sul do Equador</td>\n",
       "      <td>AM</td>\n",
       "      <td>PRESIDENTE FIGUEIREDO</td>\n",
       "      <td>Minério de Estanho Primário</td>\n",
       "      <td>10.3</td>\n",
       "      <td>924000.0</td>\n",
       "      <td>Baixa</td>\n",
       "      <td>Média</td>\n",
       "      <td>C</td>\n",
       "      <td>Sim</td>\n",
       "      <td>0.785722222222222</td>\n",
       "      <td>-60.1419166666667</td>\n",
       "      <td>1</td>\n",
       "      <td>0</td>\n",
       "      <td>1</td>\n",
       "      <td>0</td>\n",
       "    </tr>\n",
       "    <tr>\n",
       "      <th>2</th>\n",
       "      <td>111 (Índio)</td>\n",
       "      <td>Mineração Taboca S.a.</td>\n",
       "      <td>34.019.992/0001-10</td>\n",
       "      <td>Sul do Equador</td>\n",
       "      <td>AM</td>\n",
       "      <td>PRESIDENTE FIGUEIREDO</td>\n",
       "      <td>Minério de Estanho Primário</td>\n",
       "      <td>5.0</td>\n",
       "      <td>48873.0</td>\n",
       "      <td>Baixa</td>\n",
       "      <td>Média</td>\n",
       "      <td>C</td>\n",
       "      <td>Sim</td>\n",
       "      <td>0.789666666666667</td>\n",
       "      <td>-60.1442777777778</td>\n",
       "      <td>1</td>\n",
       "      <td>0</td>\n",
       "      <td>1</td>\n",
       "      <td>0</td>\n",
       "    </tr>\n",
       "    <tr>\n",
       "      <th>3</th>\n",
       "      <td>158 (A-1)</td>\n",
       "      <td>Mineração Taboca S.a.</td>\n",
       "      <td>34.019.992/0001-10</td>\n",
       "      <td>Sul do Equador</td>\n",
       "      <td>AM</td>\n",
       "      <td>PRESIDENTE FIGUEIREDO</td>\n",
       "      <td>Minério de Estanho Primário</td>\n",
       "      <td>30.0</td>\n",
       "      <td>53380000.0</td>\n",
       "      <td>Baixa</td>\n",
       "      <td>Alta</td>\n",
       "      <td>B</td>\n",
       "      <td>Sim</td>\n",
       "      <td>0.738027777777778</td>\n",
       "      <td>-60.0789166666667</td>\n",
       "      <td>1</td>\n",
       "      <td>0</td>\n",
       "      <td>1</td>\n",
       "      <td>0</td>\n",
       "    </tr>\n",
       "    <tr>\n",
       "      <th>4</th>\n",
       "      <td>161 (A-2)</td>\n",
       "      <td>Mineração Taboca S.a.</td>\n",
       "      <td>34.019.992/0001-10</td>\n",
       "      <td>Sul do Equador</td>\n",
       "      <td>AM</td>\n",
       "      <td>PRESIDENTE FIGUEIREDO</td>\n",
       "      <td>Minério de Estanho Primário</td>\n",
       "      <td>22.0</td>\n",
       "      <td>1018054.0</td>\n",
       "      <td>Baixa</td>\n",
       "      <td>Média</td>\n",
       "      <td>C</td>\n",
       "      <td>Sim</td>\n",
       "      <td>0.732286944444444</td>\n",
       "      <td>-60.0689988888889</td>\n",
       "      <td>1</td>\n",
       "      <td>0</td>\n",
       "      <td>1</td>\n",
       "      <td>0</td>\n",
       "    </tr>\n",
       "  </tbody>\n",
       "</table>\n",
       "</div>"
      ],
      "text/plain": [
       "  NOME_BARRAGEM_MINERACAO   NOME_DO_EMPREENDEDOR            CPF_CNPJ  \\\n",
       "0                     0-1  Mineração Taboca S.a.  34.019.992/0001-10   \n",
       "1              103 (Cruz)  Mineração Taboca S.a.  34.019.992/0001-10   \n",
       "2             111 (Índio)  Mineração Taboca S.a.  34.019.992/0001-10   \n",
       "3               158 (A-1)  Mineração Taboca S.a.  34.019.992/0001-10   \n",
       "4               161 (A-2)  Mineração Taboca S.a.  34.019.992/0001-10   \n",
       "\n",
       "   POSICIONAMENTO  UF              MUNICIPIO            MINERIO_PRINCIPAL  \\\n",
       "0  Sul do Equador  AM  PRESIDENTE FIGUEIREDO  Minério de Estanho Primário   \n",
       "1  Sul do Equador  AM  PRESIDENTE FIGUEIREDO  Minério de Estanho Primário   \n",
       "2  Sul do Equador  AM  PRESIDENTE FIGUEIREDO  Minério de Estanho Primário   \n",
       "3  Sul do Equador  AM  PRESIDENTE FIGUEIREDO  Minério de Estanho Primário   \n",
       "4  Sul do Equador  AM  PRESIDENTE FIGUEIREDO  Minério de Estanho Primário   \n",
       "\n",
       "   ALTURA_ATUAL_metros  VOLUME_ATUAL_m3 CATEGORIA_DE_RISCO  \\\n",
       "0                 22.0       27700000.0              Baixa   \n",
       "1                 10.3         924000.0              Baixa   \n",
       "2                  5.0          48873.0              Baixa   \n",
       "3                 30.0       53380000.0              Baixa   \n",
       "4                 22.0        1018054.0              Baixa   \n",
       "\n",
       "  DANO_POTENCIAL_ASSOCIADO CLASSE INSERIDA_NA_PNSB           LATITUDE  \\\n",
       "0                    Média      C              Sim  0.733361111111111   \n",
       "1                    Média      C              Sim  0.785722222222222   \n",
       "2                    Média      C              Sim  0.789666666666667   \n",
       "3                     Alta      B              Sim  0.738027777777778   \n",
       "4                    Média      C              Sim  0.732286944444444   \n",
       "\n",
       "           LONGITUDE  dummy_PNSB  Categoria_de_Risco_Alta  \\\n",
       "0  -60.1383888888889           1                        0   \n",
       "1  -60.1419166666667           1                        0   \n",
       "2  -60.1442777777778           1                        0   \n",
       "3  -60.0789166666667           1                        0   \n",
       "4  -60.0689988888889           1                        0   \n",
       "\n",
       "   Categoria_de_Risco_Baixa  Categoria_de_Risco_Média  \n",
       "0                         1                         0  \n",
       "1                         1                         0  \n",
       "2                         1                         0  \n",
       "3                         1                         0  \n",
       "4                         1                         0  "
      ]
     },
     "execution_count": 25,
     "metadata": {},
     "output_type": "execute_result"
    },
    {
     "data": {
      "application/javascript": [
       "\n",
       "            setTimeout(function() {\n",
       "                var nbb_cell_id = 25;\n",
       "                var nbb_unformatted_code = \"barragens.head()\";\n",
       "                var nbb_formatted_code = \"barragens.head()\";\n",
       "                var nbb_cells = Jupyter.notebook.get_cells();\n",
       "                for (var i = 0; i < nbb_cells.length; ++i) {\n",
       "                    if (nbb_cells[i].input_prompt_number == nbb_cell_id) {\n",
       "                        if (nbb_cells[i].get_text() == nbb_unformatted_code) {\n",
       "                             nbb_cells[i].set_text(nbb_formatted_code);\n",
       "                        }\n",
       "                        break;\n",
       "                    }\n",
       "                }\n",
       "            }, 500);\n",
       "            "
      ],
      "text/plain": [
       "<IPython.core.display.Javascript object>"
      ]
     },
     "metadata": {},
     "output_type": "display_data"
    }
   ],
   "source": [
    "barragens.head()"
   ]
  },
  {
   "cell_type": "code",
   "execution_count": 26,
   "metadata": {},
   "outputs": [
    {
     "data": {
      "text/plain": [
       "CATEGORIA_DE_RISCO\n",
       "Alta     28.666667\n",
       "Baixa    27.960723\n",
       "Média    16.377273\n",
       "Name: ALTURA_ATUAL_metros, dtype: float64"
      ]
     },
     "execution_count": 26,
     "metadata": {},
     "output_type": "execute_result"
    },
    {
     "data": {
      "application/javascript": [
       "\n",
       "            setTimeout(function() {\n",
       "                var nbb_cell_id = 26;\n",
       "                var nbb_unformatted_code = \"barragens.groupby(\\\"CATEGORIA_DE_RISCO\\\")[\\\"ALTURA_ATUAL_metros\\\"].mean()\";\n",
       "                var nbb_formatted_code = \"barragens.groupby(\\\"CATEGORIA_DE_RISCO\\\")[\\\"ALTURA_ATUAL_metros\\\"].mean()\";\n",
       "                var nbb_cells = Jupyter.notebook.get_cells();\n",
       "                for (var i = 0; i < nbb_cells.length; ++i) {\n",
       "                    if (nbb_cells[i].input_prompt_number == nbb_cell_id) {\n",
       "                        if (nbb_cells[i].get_text() == nbb_unformatted_code) {\n",
       "                             nbb_cells[i].set_text(nbb_formatted_code);\n",
       "                        }\n",
       "                        break;\n",
       "                    }\n",
       "                }\n",
       "            }, 500);\n",
       "            "
      ],
      "text/plain": [
       "<IPython.core.display.Javascript object>"
      ]
     },
     "metadata": {},
     "output_type": "display_data"
    }
   ],
   "source": [
    "barragens.groupby(\"CATEGORIA_DE_RISCO\")[\"ALTURA_ATUAL_metros\"].mean()"
   ]
  },
  {
   "cell_type": "code",
   "execution_count": 27,
   "metadata": {},
   "outputs": [
    {
     "data": {
      "text/plain": [
       "CATEGORIA_DE_RISCO\n",
       "Alta     3.380292e+05\n",
       "Baixa    8.960697e+06\n",
       "Média    2.019007e+06\n",
       "Name: VOLUME_ATUAL_m3, dtype: float64"
      ]
     },
     "execution_count": 27,
     "metadata": {},
     "output_type": "execute_result"
    },
    {
     "data": {
      "application/javascript": [
       "\n",
       "            setTimeout(function() {\n",
       "                var nbb_cell_id = 27;\n",
       "                var nbb_unformatted_code = \"barragens.groupby(\\\"CATEGORIA_DE_RISCO\\\")[\\\"VOLUME_ATUAL_m3\\\"].mean()\";\n",
       "                var nbb_formatted_code = \"barragens.groupby(\\\"CATEGORIA_DE_RISCO\\\")[\\\"VOLUME_ATUAL_m3\\\"].mean()\";\n",
       "                var nbb_cells = Jupyter.notebook.get_cells();\n",
       "                for (var i = 0; i < nbb_cells.length; ++i) {\n",
       "                    if (nbb_cells[i].input_prompt_number == nbb_cell_id) {\n",
       "                        if (nbb_cells[i].get_text() == nbb_unformatted_code) {\n",
       "                             nbb_cells[i].set_text(nbb_formatted_code);\n",
       "                        }\n",
       "                        break;\n",
       "                    }\n",
       "                }\n",
       "            }, 500);\n",
       "            "
      ],
      "text/plain": [
       "<IPython.core.display.Javascript object>"
      ]
     },
     "metadata": {},
     "output_type": "display_data"
    }
   ],
   "source": [
    "barragens.groupby(\"CATEGORIA_DE_RISCO\")[\"VOLUME_ATUAL_m3\"].mean()"
   ]
  },
  {
   "cell_type": "code",
   "execution_count": 29,
   "metadata": {},
   "outputs": [
    {
     "data": {
      "image/png": "[encoded data removed]",
      "text/plain": [
       "<Figure size 864x360 with 1 Axes>"
      ]
     },
     "metadata": {},
     "output_type": "display_data"
    },
    {
     "data": {
      "application/javascript": [
       "\n",
       "            setTimeout(function() {\n",
       "                var nbb_cell_id = 29;\n",
       "                var nbb_unformatted_code = \"_ = plt.figure(1, figsize=(12, 5))\\n_ = barragens[\\\"CATEGORIA_DE_RISCO\\\"].value_counts().plot(kind=\\\"barh\\\", colormap=\\\"Accent\\\")\\n_ = plt.title(\\\"Qtd. de Barragens por Categoria de Risco\\\")\";\n",
       "                var nbb_formatted_code = \"_ = plt.figure(1, figsize=(12, 5))\\n_ = barragens[\\\"CATEGORIA_DE_RISCO\\\"].value_counts().plot(kind=\\\"barh\\\", colormap=\\\"Accent\\\")\\n_ = plt.title(\\\"Qtd. de Barragens por Categoria de Risco\\\")\";\n",
       "                var nbb_cells = Jupyter.notebook.get_cells();\n",
       "                for (var i = 0; i < nbb_cells.length; ++i) {\n",
       "                    if (nbb_cells[i].input_prompt_number == nbb_cell_id) {\n",
       "                        if (nbb_cells[i].get_text() == nbb_unformatted_code) {\n",
       "                             nbb_cells[i].set_text(nbb_formatted_code);\n",
       "                        }\n",
       "                        break;\n",
       "                    }\n",
       "                }\n",
       "            }, 500);\n",
       "            "
      ],
      "text/plain": [
       "<IPython.core.display.Javascript object>"
      ]
     },
     "metadata": {},
     "output_type": "display_data"
    }
   ],
   "source": [
    "_ = plt.figure(1, figsize=(12, 5))\n",
    "_ = barragens[\"CATEGORIA_DE_RISCO\"].value_counts().plot(kind=\"barh\", colormap=\"Accent\")\n",
    "_ = plt.title(\"Qtd. de Barragens por Categoria de Risco\")"
   ]
  },
  {
   "cell_type": "code",
   "execution_count": 31,
   "metadata": {},
   "outputs": [
    {
     "data": {
      "image/png": "[encoded data removed]",
      "text/plain": [
       "<Figure size 720x360 with 1 Axes>"
      ]
     },
     "metadata": {},
     "output_type": "display_data"
    },
    {
     "data": {
      "application/javascript": [
       "\n",
       "            setTimeout(function() {\n",
       "                var nbb_cell_id = 31;\n",
       "                var nbb_unformatted_code = \"_ = sns.countplot(\\n    x=\\\"CATEGORIA_DE_RISCO\\\",\\n    data=barragens,\\n    order=barragens[\\\"DANO_POTENCIAL_ASSOCIADO\\\"].value_counts().index,\\n)\";\n",
       "                var nbb_formatted_code = \"_ = sns.countplot(\\n    x=\\\"CATEGORIA_DE_RISCO\\\",\\n    data=barragens,\\n    order=barragens[\\\"DANO_POTENCIAL_ASSOCIADO\\\"].value_counts().index,\\n)\";\n",
       "                var nbb_cells = Jupyter.notebook.get_cells();\n",
       "                for (var i = 0; i < nbb_cells.length; ++i) {\n",
       "                    if (nbb_cells[i].input_prompt_number == nbb_cell_id) {\n",
       "                        if (nbb_cells[i].get_text() == nbb_unformatted_code) {\n",
       "                             nbb_cells[i].set_text(nbb_formatted_code);\n",
       "                        }\n",
       "                        break;\n",
       "                    }\n",
       "                }\n",
       "            }, 500);\n",
       "            "
      ],
      "text/plain": [
       "<IPython.core.display.Javascript object>"
      ]
     },
     "metadata": {},
     "output_type": "display_data"
    }
   ],
   "source": [
    "_ = sns.countplot(\n",
    "    x=\"CATEGORIA_DE_RISCO\",\n",
    "    data=barragens,\n",
    "    order=barragens[\"DANO_POTENCIAL_ASSOCIADO\"].value_counts().index,\n",
    ")"
   ]
  },
  {
   "cell_type": "code",
   "execution_count": 33,
   "metadata": {},
   "outputs": [
    {
     "data": {
      "image/png": "[encoded data removed]",
      "text/plain": [
       "<Figure size 864x360 with 1 Axes>"
      ]
     },
     "metadata": {},
     "output_type": "display_data"
    },
    {
     "data": {
      "application/javascript": [
       "\n",
       "            setTimeout(function() {\n",
       "                var nbb_cell_id = 33;\n",
       "                var nbb_unformatted_code = \"## Quantidade de Barragens X UF\\n_ = plt.figure(1, figsize=(12, 5))\\n_ = barragens[\\\"UF\\\"].value_counts()[:10].plot(kind=\\\"bar\\\", color=\\\"green\\\")\\n_ = plt.title(\\n    \\\"Qtd. Barragens de Res\\u00edduos por UF\\\"\\n)\";\n",
       "                var nbb_formatted_code = \"## Quantidade de Barragens X UF\\n_ = plt.figure(1, figsize=(12, 5))\\n_ = barragens[\\\"UF\\\"].value_counts()[:10].plot(kind=\\\"bar\\\", color=\\\"green\\\")\\n_ = plt.title(\\\"Qtd. Barragens de Res\\u00edduos por UF\\\")\";\n",
       "                var nbb_cells = Jupyter.notebook.get_cells();\n",
       "                for (var i = 0; i < nbb_cells.length; ++i) {\n",
       "                    if (nbb_cells[i].input_prompt_number == nbb_cell_id) {\n",
       "                        if (nbb_cells[i].get_text() == nbb_unformatted_code) {\n",
       "                             nbb_cells[i].set_text(nbb_formatted_code);\n",
       "                        }\n",
       "                        break;\n",
       "                    }\n",
       "                }\n",
       "            }, 500);\n",
       "            "
      ],
      "text/plain": [
       "<IPython.core.display.Javascript object>"
      ]
     },
     "metadata": {},
     "output_type": "display_data"
    }
   ],
   "source": [
    "## Quantidade de Barragens X UF\n",
    "_ = plt.figure(1, figsize=(12, 5))\n",
    "_ = barragens[\"UF\"].value_counts()[:10].plot(kind=\"bar\", color=\"green\")\n",
    "_ = plt.title(\"Qtd. Barragens de Resíduos por UF\")"
   ]
  },
  {
   "cell_type": "code",
   "execution_count": 35,
   "metadata": {},
   "outputs": [
    {
     "data": {
      "application/javascript": [
       "\n",
       "            setTimeout(function() {\n",
       "                var nbb_cell_id = 35;\n",
       "                var nbb_unformatted_code = \"barragens = pd.concat(\\n    [\\n        barragens,\\n        pd.get_dummies(barragens[\\\"DANO_POTENCIAL_ASSOCIADO\\\"], \\\"Dano_Potencial_\\\"),\\n    ],\\n    axis=1,\\n)\";\n",
       "                var nbb_formatted_code = \"barragens = pd.concat(\\n    [\\n        barragens,\\n        pd.get_dummies(barragens[\\\"DANO_POTENCIAL_ASSOCIADO\\\"], \\\"Dano_Potencial_\\\"),\\n    ],\\n    axis=1,\\n)\";\n",
       "                var nbb_cells = Jupyter.notebook.get_cells();\n",
       "                for (var i = 0; i < nbb_cells.length; ++i) {\n",
       "                    if (nbb_cells[i].input_prompt_number == nbb_cell_id) {\n",
       "                        if (nbb_cells[i].get_text() == nbb_unformatted_code) {\n",
       "                             nbb_cells[i].set_text(nbb_formatted_code);\n",
       "                        }\n",
       "                        break;\n",
       "                    }\n",
       "                }\n",
       "            }, 500);\n",
       "            "
      ],
      "text/plain": [
       "<IPython.core.display.Javascript object>"
      ]
     },
     "metadata": {},
     "output_type": "display_data"
    }
   ],
   "source": [
    "barragens = pd.concat(\n",
    "    [\n",
    "        barragens,\n",
    "        pd.get_dummies(barragens[\"DANO_POTENCIAL_ASSOCIADO\"], \"Dano_Potencial_\"),\n",
    "    ],\n",
    "    axis=1,\n",
    ")"
   ]
  },
  {
   "cell_type": "code",
   "execution_count": 36,
   "metadata": {},
   "outputs": [
    {
     "data": {
      "image/png": "[encoded data removed]",
      "text/plain": [
       "<Figure size 720x360 with 1 Axes>"
      ]
     },
     "metadata": {},
     "output_type": "display_data"
    },
    {
     "data": {
      "application/javascript": [
       "\n",
       "            setTimeout(function() {\n",
       "                var nbb_cell_id = 36;\n",
       "                var nbb_unformatted_code = \"# Algum estado possui mais barragens por risco?\\n_ = (\\n    pd.pivot_table(\\n        data=barragens, index=[\\\"UF\\\"], values=[\\\"Dano_Potencial__Alta\\\"], aggfunc=\\\"mean\\\"\\n    )\\n    .sort_values(by=\\\"Dano_Potencial__Alta\\\", ascending=False)\\n    .plot(kind=\\\"bar\\\")\\n)\\n_ = plt.title(\\\"% de Barragens com Dano Potencial Alto\\\")\";\n",
       "                var nbb_formatted_code = \"# Algum estado possui mais barragens por risco?\\n_ = (\\n    pd.pivot_table(\\n        data=barragens, index=[\\\"UF\\\"], values=[\\\"Dano_Potencial__Alta\\\"], aggfunc=\\\"mean\\\"\\n    )\\n    .sort_values(by=\\\"Dano_Potencial__Alta\\\", ascending=False)\\n    .plot(kind=\\\"bar\\\")\\n)\\n_ = plt.title(\\\"% de Barragens com Dano Potencial Alto\\\")\";\n",
       "                var nbb_cells = Jupyter.notebook.get_cells();\n",
       "                for (var i = 0; i < nbb_cells.length; ++i) {\n",
       "                    if (nbb_cells[i].input_prompt_number == nbb_cell_id) {\n",
       "                        if (nbb_cells[i].get_text() == nbb_unformatted_code) {\n",
       "                             nbb_cells[i].set_text(nbb_formatted_code);\n",
       "                        }\n",
       "                        break;\n",
       "                    }\n",
       "                }\n",
       "            }, 500);\n",
       "            "
      ],
      "text/plain": [
       "<IPython.core.display.Javascript object>"
      ]
     },
     "metadata": {},
     "output_type": "display_data"
    }
   ],
   "source": [
    "# Algum estado possui mais barragens por risco?\n",
    "_ = (\n",
    "    pd.pivot_table(\n",
    "        data=barragens, index=[\"UF\"], values=[\"Dano_Potencial__Alta\"], aggfunc=\"mean\"\n",
    "    )\n",
    "    .sort_values(by=\"Dano_Potencial__Alta\", ascending=False)\n",
    "    .plot(kind=\"bar\")\n",
    ")\n",
    "_ = plt.title(\"% de Barragens com Dano Potencial Alto\")"
   ]
  },
  {
   "cell_type": "code",
   "execution_count": 37,
   "metadata": {},
   "outputs": [
    {
     "data": {
      "text/html": [
       "<div>\n",
       "<style scoped>\n",
       "    .dataframe tbody tr th:only-of-type {\n",
       "        vertical-align: middle;\n",
       "    }\n",
       "\n",
       "    .dataframe tbody tr th {\n",
       "        vertical-align: top;\n",
       "    }\n",
       "\n",
       "    .dataframe thead th {\n",
       "        text-align: right;\n",
       "    }\n",
       "</style>\n",
       "<table border=\"1\" class=\"dataframe\">\n",
       "  <thead>\n",
       "    <tr style=\"text-align: right;\">\n",
       "      <th></th>\n",
       "      <th>UF</th>\n",
       "      <th>contagem_geral</th>\n",
       "      <th>contagem_por_risco_alto</th>\n",
       "      <th>perc_de_risco_alto</th>\n",
       "      <th>Missing_Risco</th>\n",
       "      <th>Missing_Dano</th>\n",
       "    </tr>\n",
       "  </thead>\n",
       "  <tbody>\n",
       "    <tr>\n",
       "      <th>6</th>\n",
       "      <td>MG</td>\n",
       "      <td>324</td>\n",
       "      <td>132</td>\n",
       "      <td>0.4</td>\n",
       "      <td>0.4</td>\n",
       "      <td>0.4</td>\n",
       "    </tr>\n",
       "    <tr>\n",
       "      <th>9</th>\n",
       "      <td>PA</td>\n",
       "      <td>98</td>\n",
       "      <td>18</td>\n",
       "      <td>0.2</td>\n",
       "      <td>0.3</td>\n",
       "      <td>0.3</td>\n",
       "    </tr>\n",
       "    <tr>\n",
       "      <th>16</th>\n",
       "      <td>SP</td>\n",
       "      <td>66</td>\n",
       "      <td>7</td>\n",
       "      <td>0.1</td>\n",
       "      <td>0.7</td>\n",
       "      <td>0.7</td>\n",
       "    </tr>\n",
       "    <tr>\n",
       "      <th>8</th>\n",
       "      <td>MT</td>\n",
       "      <td>62</td>\n",
       "      <td>5</td>\n",
       "      <td>0.1</td>\n",
       "      <td>0.5</td>\n",
       "      <td>0.5</td>\n",
       "    </tr>\n",
       "    <tr>\n",
       "      <th>2</th>\n",
       "      <td>BA</td>\n",
       "      <td>46</td>\n",
       "      <td>6</td>\n",
       "      <td>0.1</td>\n",
       "      <td>0.7</td>\n",
       "      <td>0.7</td>\n",
       "    </tr>\n",
       "  </tbody>\n",
       "</table>\n",
       "</div>"
      ],
      "text/plain": [
       "    UF  contagem_geral  contagem_por_risco_alto  perc_de_risco_alto  \\\n",
       "6   MG             324                      132                 0.4   \n",
       "9   PA              98                       18                 0.2   \n",
       "16  SP              66                        7                 0.1   \n",
       "8   MT              62                        5                 0.1   \n",
       "2   BA              46                        6                 0.1   \n",
       "\n",
       "    Missing_Risco  Missing_Dano  \n",
       "6             0.4           0.4  \n",
       "9             0.3           0.3  \n",
       "16            0.7           0.7  \n",
       "8             0.5           0.5  \n",
       "2             0.7           0.7  "
      ]
     },
     "execution_count": 37,
     "metadata": {},
     "output_type": "execute_result"
    },
    {
     "data": {
      "application/javascript": [
       "\n",
       "            setTimeout(function() {\n",
       "                var nbb_cell_id = 37;\n",
       "                var nbb_unformatted_code = \"# Risco de acordo com UF\\nresumo_por_uf = (\\n    barragens.groupby([\\\"UF\\\"], sort=False)\\n    .agg(\\n        contagem_geral=(\\\"Dano_Potencial__Alta\\\", \\\"count\\\"),\\n        contagem_por_risco_alto=(\\\"Dano_Potencial__Alta\\\", \\\"sum\\\"),\\n        perc_de_risco_alto=(\\\"Dano_Potencial__Alta\\\", \\\"mean\\\"),\\n        Missing_Risco=(\\\"CATEGORIA_DE_RISCO\\\", lambda x: x.isnull().mean(),),\\n        Missing_Dano=(\\\"DANO_POTENCIAL_ASSOCIADO\\\", lambda x: x.isnull().mean(),),\\n    )\\n    .reset_index()\\n    .round(1)\\n)\\n\\nresumo_por_uf.sort_values(by=\\\"contagem_geral\\\", ascending=False).head()\";\n",
       "                var nbb_formatted_code = \"# Risco de acordo com UF\\nresumo_por_uf = (\\n    barragens.groupby([\\\"UF\\\"], sort=False)\\n    .agg(\\n        contagem_geral=(\\\"Dano_Potencial__Alta\\\", \\\"count\\\"),\\n        contagem_por_risco_alto=(\\\"Dano_Potencial__Alta\\\", \\\"sum\\\"),\\n        perc_de_risco_alto=(\\\"Dano_Potencial__Alta\\\", \\\"mean\\\"),\\n        Missing_Risco=(\\\"CATEGORIA_DE_RISCO\\\", lambda x: x.isnull().mean(),),\\n        Missing_Dano=(\\\"DANO_POTENCIAL_ASSOCIADO\\\", lambda x: x.isnull().mean(),),\\n    )\\n    .reset_index()\\n    .round(1)\\n)\\n\\nresumo_por_uf.sort_values(by=\\\"contagem_geral\\\", ascending=False).head()\";\n",
       "                var nbb_cells = Jupyter.notebook.get_cells();\n",
       "                for (var i = 0; i < nbb_cells.length; ++i) {\n",
       "                    if (nbb_cells[i].input_prompt_number == nbb_cell_id) {\n",
       "                        if (nbb_cells[i].get_text() == nbb_unformatted_code) {\n",
       "                             nbb_cells[i].set_text(nbb_formatted_code);\n",
       "                        }\n",
       "                        break;\n",
       "                    }\n",
       "                }\n",
       "            }, 500);\n",
       "            "
      ],
      "text/plain": [
       "<IPython.core.display.Javascript object>"
      ]
     },
     "metadata": {},
     "output_type": "display_data"
    }
   ],
   "source": [
    "# Risco de acordo com UF\n",
    "resumo_por_uf = (\n",
    "    barragens.groupby([\"UF\"], sort=False)\n",
    "    .agg(\n",
    "        contagem_geral=(\"Dano_Potencial__Alta\", \"count\"),\n",
    "        contagem_por_risco_alto=(\"Dano_Potencial__Alta\", \"sum\"),\n",
    "        perc_de_risco_alto=(\"Dano_Potencial__Alta\", \"mean\"),\n",
    "        Missing_Risco=(\"CATEGORIA_DE_RISCO\", lambda x: x.isnull().mean(),),\n",
    "        Missing_Dano=(\"DANO_POTENCIAL_ASSOCIADO\", lambda x: x.isnull().mean(),),\n",
    "    )\n",
    "    .reset_index()\n",
    "    .round(1)\n",
    ")\n",
    "\n",
    "resumo_por_uf.sort_values(by=\"contagem_geral\", ascending=False).head()"
   ]
  },
  {
   "cell_type": "code",
   "execution_count": 40,
   "metadata": {},
   "outputs": [
    {
     "data": {
      "image/png": "[encoded data removed]",
      "text/plain": [
       "<Figure size 720x360 with 1 Axes>"
      ]
     },
     "metadata": {},
     "output_type": "display_data"
    },
    {
     "data": {
      "application/javascript": [
       "\n",
       "            setTimeout(function() {\n",
       "                var nbb_cell_id = 40;\n",
       "                var nbb_unformatted_code = \"_ = sns.barplot(\\n    data=resumo_por_uf.sort_values(by=\\\"Missing_Risco\\\", ascending=False),\\n    x=\\\"UF\\\",\\n    y=\\\"Missing_Risco\\\",\\n)\\n_ = plt.title(\\\"% de Barragens fora da PNSB\\\")\";\n",
       "                var nbb_formatted_code = \"_ = sns.barplot(\\n    data=resumo_por_uf.sort_values(by=\\\"Missing_Risco\\\", ascending=False),\\n    x=\\\"UF\\\",\\n    y=\\\"Missing_Risco\\\",\\n)\\n_ = plt.title(\\\"% de Barragens fora da PNSB\\\")\";\n",
       "                var nbb_cells = Jupyter.notebook.get_cells();\n",
       "                for (var i = 0; i < nbb_cells.length; ++i) {\n",
       "                    if (nbb_cells[i].input_prompt_number == nbb_cell_id) {\n",
       "                        if (nbb_cells[i].get_text() == nbb_unformatted_code) {\n",
       "                             nbb_cells[i].set_text(nbb_formatted_code);\n",
       "                        }\n",
       "                        break;\n",
       "                    }\n",
       "                }\n",
       "            }, 500);\n",
       "            "
      ],
      "text/plain": [
       "<IPython.core.display.Javascript object>"
      ]
     },
     "metadata": {},
     "output_type": "display_data"
    }
   ],
   "source": [
    "_ = sns.barplot(\n",
    "    data=resumo_por_uf.sort_values(by=\"Missing_Risco\", ascending=False),\n",
    "    x=\"UF\",\n",
    "    y=\"Missing_Risco\",\n",
    ")\n",
    "_ = plt.title(\"% de Barragens fora da PNSB\")"
   ]
  },
  {
   "cell_type": "code",
   "execution_count": 42,
   "metadata": {},
   "outputs": [
    {
     "data": {
      "image/png": "[encoded data removed]",
      "text/plain": [
       "<Figure size 720x360 with 1 Axes>"
      ]
     },
     "metadata": {},
     "output_type": "display_data"
    },
    {
     "data": {
      "application/javascript": [
       "\n",
       "            setTimeout(function() {\n",
       "                var nbb_cell_id = 42;\n",
       "                var nbb_unformatted_code = \"# E o risco por material\\n_ = (\\n    pd.pivot_table(\\n        data=barragens,\\n        index=[\\\"MINERIO_PRINCIPAL\\\"],\\n        values=[\\\"Dano_Potencial__Alta\\\"],\\n        aggfunc=\\\"mean\\\",\\n    )\\n    .sort_values(by=\\\"Dano_Potencial__Alta\\\", ascending=False)\\n    .head(20)\\n    .plot(kind=\\\"bar\\\")\\n)\\n_ = plt.title(\\\"% de Barragens com Dano Potencial Alto por Min\\u00e9rio\\\")\";\n",
       "                var nbb_formatted_code = \"# E o risco por material\\n_ = (\\n    pd.pivot_table(\\n        data=barragens,\\n        index=[\\\"MINERIO_PRINCIPAL\\\"],\\n        values=[\\\"Dano_Potencial__Alta\\\"],\\n        aggfunc=\\\"mean\\\",\\n    )\\n    .sort_values(by=\\\"Dano_Potencial__Alta\\\", ascending=False)\\n    .head(20)\\n    .plot(kind=\\\"bar\\\")\\n)\\n_ = plt.title(\\\"% de Barragens com Dano Potencial Alto por Min\\u00e9rio\\\")\";\n",
       "                var nbb_cells = Jupyter.notebook.get_cells();\n",
       "                for (var i = 0; i < nbb_cells.length; ++i) {\n",
       "                    if (nbb_cells[i].input_prompt_number == nbb_cell_id) {\n",
       "                        if (nbb_cells[i].get_text() == nbb_unformatted_code) {\n",
       "                             nbb_cells[i].set_text(nbb_formatted_code);\n",
       "                        }\n",
       "                        break;\n",
       "                    }\n",
       "                }\n",
       "            }, 500);\n",
       "            "
      ],
      "text/plain": [
       "<IPython.core.display.Javascript object>"
      ]
     },
     "metadata": {},
     "output_type": "display_data"
    }
   ],
   "source": [
    "# E o risco por material\n",
    "_ = (\n",
    "    pd.pivot_table(\n",
    "        data=barragens,\n",
    "        index=[\"MINERIO_PRINCIPAL\"],\n",
    "        values=[\"Dano_Potencial__Alta\"],\n",
    "        aggfunc=\"mean\",\n",
    "    )\n",
    "    .sort_values(by=\"Dano_Potencial__Alta\", ascending=False)\n",
    "    .head(20)\n",
    "    .plot(kind=\"bar\")\n",
    ")\n",
    "_ = plt.title(\"% de Barragens com Dano Potencial Alto por Minério\")"
   ]
  },
  {
   "cell_type": "code",
   "execution_count": null,
   "metadata": {},
   "outputs": [],
   "source": []
  }
 ],
 "metadata": {
  "kernelspec": {
   "display_name": "Python 3",
   "language": "python",
   "name": "python3"
  },
  "language_info": {
   "codemirror_mode": {
    "name": "ipython",
    "version": 3
   },
   "file_extension": ".py",
   "mimetype": "text/x-python",
   "name": "python",
   "nbconvert_exporter": "python",
   "pygments_lexer": "ipython3",
   "version": "3.7.6"
  }
 },
 "nbformat": 4,
 "nbformat_minor": 4
}
